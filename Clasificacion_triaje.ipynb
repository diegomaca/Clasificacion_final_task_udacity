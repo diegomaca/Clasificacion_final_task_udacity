{
 "cells": [
  {
   "cell_type": "markdown",
   "metadata": {
    "id": "WL05FGIjqgF-"
   },
   "source": [
    "# Triage Classification through Machine Learning Models\n",
    "In all healthcare institutions, ensuring the accurate classification of patients who come to emergency services represents a crucial challenge. Proper triage classification is essential to ensure that each patient receives the appropriate care at the right time, especially in critical situations where every minute counts.\n",
    "\n",
    "In this context, there is a need to improve the triage classification process in emergency rooms. This involves implementing tools and approaches that allow healthcare professionals to make more precise and faster decisions when classifying patients.\n",
    "\n",
    "## Objective\n",
    "In light of this, the objective of this article is to develop a classification model that allows for the classification of patients arriving at an emergency room, taking into account characteristics such as temperature, oxygen saturation, age, among others, along with the text recorded by the healthcare professional when attending to the patients.\n",
    "\n",
    "## Metrics and Evaluation\n",
    "Considering that the goal is to classify patients into 5 triage categories, we are facing a multiclass classification problem. Since the classes are not balanced, the metric used to evaluate the performance of the models will be the macro F1 score, as it weighs precision and recall.\n"
   ]
  },
  {
   "cell_type": "markdown",
   "metadata": {
    "id": "z3rXLLwMv2nE"
   },
   "source": [
    "## Requirements:\n",
    "This project was carried out in Python with the following libraries:"
   ]
  },
  {
   "cell_type": "code",
   "execution_count": 1,
   "metadata": {
    "colab": {
     "base_uri": "https://localhost:8080/"
    },
    "id": "lrfk7DsE2YTo",
    "outputId": "93eabc2a-84d1-484e-945d-f1ae946323dd"
   },
   "outputs": [
    {
     "name": "stdout",
     "output_type": "stream",
     "text": [
      "Requirement already satisfied: nltk in c:\\users\\damaca\\anaconda3\\lib\\site-packages (3.6.1)\n",
      "Requirement already satisfied: tqdm in c:\\users\\damaca\\anaconda3\\lib\\site-packages (from nltk) (4.59.0)\n",
      "Requirement already satisfied: joblib in c:\\users\\damaca\\anaconda3\\lib\\site-packages (from nltk) (1.0.1)\n",
      "Requirement already satisfied: click in c:\\users\\damaca\\anaconda3\\lib\\site-packages (from nltk) (7.1.2)\n",
      "Requirement already satisfied: regex in c:\\users\\damaca\\anaconda3\\lib\\site-packages (from nltk) (2021.4.4)\n"
     ]
    }
   ],
   "source": [
    "!pip install nltk"
   ]
  },
  {
   "cell_type": "code",
   "execution_count": 2,
   "metadata": {
    "colab": {
     "base_uri": "https://localhost:8080/"
    },
    "id": "l6KEQcK92kBE",
    "outputId": "179f9ad1-62ac-44d0-d502-9f89d88944a3"
   },
   "outputs": [
    {
     "name": "stderr",
     "output_type": "stream",
     "text": [
      "[nltk_data] Downloading package punkt to\n",
      "[nltk_data]     C:\\Users\\damaca\\AppData\\Roaming\\nltk_data...\n",
      "[nltk_data]   Package punkt is already up-to-date!\n"
     ]
    }
   ],
   "source": [
    "import pandas as pd\n",
    "import nltk\n",
    "nltk.download('punkt')\n",
    "from nltk.tokenize import word_tokenize"
   ]
  },
  {
   "cell_type": "code",
   "execution_count": 3,
   "metadata": {
    "colab": {
     "base_uri": "https://localhost:8080/"
    },
    "id": "vKpOl9Nq2myT",
    "outputId": "b52c2b41-8dc5-4d73-ca54-798735a19324"
   },
   "outputs": [
    {
     "name": "stderr",
     "output_type": "stream",
     "text": [
      "[nltk_data] Downloading package stopwords to\n",
      "[nltk_data]     C:\\Users\\damaca\\AppData\\Roaming\\nltk_data...\n",
      "[nltk_data]   Package stopwords is already up-to-date!\n"
     ]
    }
   ],
   "source": [
    "from nltk.corpus import stopwords\n",
    "nltk.download('stopwords')\n",
    "stop_words = set(stopwords.words('spanish'))"
   ]
  },
  {
   "cell_type": "code",
   "execution_count": 4,
   "metadata": {
    "id": "6NMpgYjG2por"
   },
   "outputs": [],
   "source": [
    "import re\n",
    "import pandas as pd\n",
    "import numpy as np\n",
    "import matplotlib.pyplot as plt\n",
    "import seaborn as sns\n",
    "from sklearn.feature_extraction.text import TfidfVectorizer\n",
    "from sklearn.linear_model import LogisticRegression\n",
    "from sklearn.model_selection import train_test_split\n",
    "from sklearn.metrics import classification_report\n",
    "from sklearn.preprocessing import StandardScaler\n",
    "from sklearn.metrics import accuracy_score\n",
    "from sklearn.ensemble import RandomForestClassifier\n",
    "from sklearn.ensemble import GradientBoostingClassifier\n",
    "from sklearn.neural_network import MLPClassifier\n",
    "from sklearn.feature_selection import SelectKBest\n",
    "from sklearn.feature_selection import f_classif\n",
    "from sklearn.model_selection import GridSearchCV\n",
    "from sklearn.metrics import f1_score, make_scorer\n",
    "from sklearn.pipeline import Pipeline\n",
    "from sklearn.preprocessing import FunctionTransformer\n",
    "from sklearn.compose import ColumnTransformer\n",
    "import pickle"
   ]
  },
  {
   "cell_type": "code",
   "execution_count": 5,
   "metadata": {
    "id": "eUQxA2xj9nzu"
   },
   "outputs": [],
   "source": [
    "import warnings\n",
    "warnings.filterwarnings(\"ignore\")"
   ]
  },
  {
   "cell_type": "markdown",
   "metadata": {
    "id": "8EPK8dI8wvl-"
   },
   "source": [
    "## Description of the Data\n",
    "For the development of this project, there is a dataset of 20,000 patient records who have attended emergency rooms between 2021 and 2022. The information is divided into 2 datasets:\n",
    "\n",
    "1.  base_datos: Patient database with the following variables:\n",
    "\n",
    "* ID_TM_Afiliado_cod: Unique ID for each patient.\n",
    "* Edad: Patient's age.\n",
    "* Genero: Patient's gender.\n",
    "* SedeAtencion: Place of care.\n",
    "* TipoAtencion: Type of care received.\n",
    "* TipoAfiliado: Patient's affiliation type.\n",
    "\n",
    "2. base_consulta: Consultation database with the following variables:\n",
    "\n",
    "* ID_TM_Afiliado_cod: Unique ID for each patient.\n",
    "* IdConsulta_cod: Unique ID for the consultation.\n",
    "* Fecha: Consultation date.\n",
    "* Dia: Consultation day.\n",
    "* Mes: Consultation month.\n",
    "* AÑO: Consultation year.\n",
    "* TAS: Systolic blood pressure.\n",
    "* TAD: Diastolic blood pressure.\n",
    "* TAM: Mean arterial pressure.\n",
    "* FC: Heart rate.\n",
    "* FR: Respiratory rate.\n",
    "* Temp: Temperature.\n",
    "* Oximetria: Oxygen saturation.\n",
    "* Anotacion TRIAGE Consulta: Text recorded by the specialist.\n",
    "* ClasificaTriage: Triage assigned to the patient.\n"
   ]
  },
  {
   "cell_type": "code",
   "execution_count": 6,
   "metadata": {
    "id": "4VdRINTowu_d"
   },
   "outputs": [],
   "source": [
    "url_base_datos = 'base_datos.csv'\n",
    "url_base_consulta = 'base_consulta.csv'"
   ]
  },
  {
   "cell_type": "code",
   "execution_count": 7,
   "metadata": {
    "id": "AhsPxzYLx8U1"
   },
   "outputs": [],
   "source": [
    "base_datos = pd.read_csv(url_base_datos).drop('Unnamed: 0', axis = 1)\n",
    "base_consulta = pd.read_csv(url_base_consulta).drop('Unnamed: 0', axis = 1)"
   ]
  },
  {
   "cell_type": "markdown",
   "metadata": {
    "id": "dTctgIXH1qxb"
   },
   "source": [
    "## Data Exploration\n",
    "The datasets containing relevant information for triage classification in emergency rooms were analyzed. These datasets include characteristics such as temperature, oxygen saturation, age, and text recorded by healthcare professionals when attending to patients.\n",
    "\n",
    "The data distributions were examined, and descriptive statistics were calculated to identify any anomalies or specific features present in the datasets.\n",
    "\n",
    "### Base_datos"
   ]
  },
  {
   "cell_type": "code",
   "execution_count": 8,
   "metadata": {
    "colab": {
     "base_uri": "https://localhost:8080/",
     "height": 112
    },
    "id": "umhMbSjl1wRP",
    "outputId": "472bb1be-b87e-40c7-ad05-c779b3952a8a"
   },
   "outputs": [
    {
     "data": {
      "text/html": [
       "<div>\n",
       "<style scoped>\n",
       "    .dataframe tbody tr th:only-of-type {\n",
       "        vertical-align: middle;\n",
       "    }\n",
       "\n",
       "    .dataframe tbody tr th {\n",
       "        vertical-align: top;\n",
       "    }\n",
       "\n",
       "    .dataframe thead th {\n",
       "        text-align: right;\n",
       "    }\n",
       "</style>\n",
       "<table border=\"1\" class=\"dataframe\">\n",
       "  <thead>\n",
       "    <tr style=\"text-align: right;\">\n",
       "      <th></th>\n",
       "      <th>ID_TM_Afiliado_cod</th>\n",
       "      <th>Edad</th>\n",
       "      <th>Genero</th>\n",
       "      <th>SedeAtencion</th>\n",
       "      <th>TipoAtencion</th>\n",
       "      <th>TipoAfiliado</th>\n",
       "    </tr>\n",
       "  </thead>\n",
       "  <tbody>\n",
       "    <tr>\n",
       "      <th>0</th>\n",
       "      <td>0a2540cbb1716ce37fc2ff4bc3235cc7</td>\n",
       "      <td>27</td>\n",
       "      <td>Femenino</td>\n",
       "      <td>VS UUBC LAS AMERICAS</td>\n",
       "      <td>Triage</td>\n",
       "      <td>Cotizante</td>\n",
       "    </tr>\n",
       "    <tr>\n",
       "      <th>1</th>\n",
       "      <td>cbbf900f3088367926b2807ccd0b7f3a</td>\n",
       "      <td>22</td>\n",
       "      <td>Femenino</td>\n",
       "      <td>VS UUBC LAS AMERICAS</td>\n",
       "      <td>Triage</td>\n",
       "      <td>Cotizante</td>\n",
       "    </tr>\n",
       "  </tbody>\n",
       "</table>\n",
       "</div>"
      ],
      "text/plain": [
       "                 ID_TM_Afiliado_cod  Edad    Genero          SedeAtencion  \\\n",
       "0  0a2540cbb1716ce37fc2ff4bc3235cc7    27  Femenino  VS UUBC LAS AMERICAS   \n",
       "1  cbbf900f3088367926b2807ccd0b7f3a    22  Femenino  VS UUBC LAS AMERICAS   \n",
       "\n",
       "  TipoAtencion TipoAfiliado  \n",
       "0       Triage    Cotizante  \n",
       "1       Triage    Cotizante  "
      ]
     },
     "execution_count": 8,
     "metadata": {},
     "output_type": "execute_result"
    }
   ],
   "source": [
    "base_datos.head(2)"
   ]
  },
  {
   "cell_type": "code",
   "execution_count": 9,
   "metadata": {
    "colab": {
     "base_uri": "https://localhost:8080/"
    },
    "id": "X82hj2jD5o_Q",
    "outputId": "455c59cd-3f65-46db-8aad-6fd93cb286b1"
   },
   "outputs": [
    {
     "data": {
      "text/plain": [
       "(20000, 6)"
      ]
     },
     "execution_count": 9,
     "metadata": {},
     "output_type": "execute_result"
    }
   ],
   "source": [
    "# Nro de registros y columnas\n",
    "base_datos.shape"
   ]
  },
  {
   "cell_type": "code",
   "execution_count": 10,
   "metadata": {
    "colab": {
     "base_uri": "https://localhost:8080/"
    },
    "id": "X6KVI1D25sF1",
    "outputId": "419d592e-0756-42f6-83bf-870a080209ad"
   },
   "outputs": [
    {
     "data": {
      "text/plain": [
       "593"
      ]
     },
     "execution_count": 10,
     "metadata": {},
     "output_type": "execute_result"
    }
   ],
   "source": [
    "# Nro duplicados\n",
    "base_datos.duplicated().sum()"
   ]
  },
  {
   "cell_type": "code",
   "execution_count": 11,
   "metadata": {
    "id": "PYQ_nU0Xi1yL"
   },
   "outputs": [],
   "source": [
    "base_datos.drop_duplicates(inplace = True)"
   ]
  },
  {
   "cell_type": "code",
   "execution_count": 12,
   "metadata": {
    "colab": {
     "base_uri": "https://localhost:8080/"
    },
    "id": "k9oTLL1W03uJ",
    "outputId": "36493ca1-7adf-4934-93e6-bbc37a514c05"
   },
   "outputs": [
    {
     "data": {
      "text/plain": [
       "ID_TM_Afiliado_cod    19062\n",
       "Edad                     94\n",
       "Genero                    2\n",
       "SedeAtencion              4\n",
       "TipoAtencion              1\n",
       "TipoAfiliado              3\n",
       "dtype: int64"
      ]
     },
     "execution_count": 12,
     "metadata": {},
     "output_type": "execute_result"
    }
   ],
   "source": [
    "base_datos.nunique()"
   ]
  },
  {
   "cell_type": "code",
   "execution_count": 13,
   "metadata": {
    "colab": {
     "base_uri": "https://localhost:8080/"
    },
    "id": "61Rnz5hrqsYQ",
    "outputId": "0ec9b515-201c-4dfb-afc4-a91376ca9d70"
   },
   "outputs": [
    {
     "data": {
      "text/plain": [
       "ID_TM_Afiliado_cod    0\n",
       "Edad                  0\n",
       "Genero                0\n",
       "SedeAtencion          0\n",
       "TipoAtencion          0\n",
       "TipoAfiliado          0\n",
       "dtype: int64"
      ]
     },
     "execution_count": 13,
     "metadata": {},
     "output_type": "execute_result"
    }
   ],
   "source": [
    "# Valores faltantes\n",
    "base_datos.isna().sum()"
   ]
  },
  {
   "cell_type": "code",
   "execution_count": 14,
   "metadata": {
    "id": "C-VsyI928cfj"
   },
   "outputs": [],
   "source": [
    "def comp_grap(var1, x_label1, y_label1, title1, title2 ):\n",
    "    \"\"\"\n",
    "    Creates a comparative graph of a numeric variable using a boxplot and a histogram.\n",
    "\n",
    "    Arguments:\n",
    "    - var1: numeric variable to create the comparative graph.\n",
    "    - x_label1: x-axis label of the boxplot and histogram.\n",
    "    - y_label1: label of the y axis of the boxplot.\n",
    "    - title1: title of the boxplot.\n",
    "    - title2: histogram title.\n",
    "\n",
    "    Returns:\n",
    "    - None: shows the comparative graph.\n",
    "    \"\"\"\n",
    "\n",
    "    fig, (ax1,ax2) = plt.subplots(1, 2,figsize=(10,5))\n",
    "    #plt.figure(figsize=(8,12))\n",
    "    ax1.boxplot(var1)\n",
    "    ax1.set_xlabel(x_label1)\n",
    "    ax1.set_ylabel(y_label1)\n",
    "    ax1.set_title(title1)\n",
    "\n",
    "    ax2.hist(var1, bins = 30)\n",
    "    ax2.set_xlabel(x_label1)\n",
    "    ax2.set_ylabel('Conteo')\n",
    "    ax2.set_title(title2)\n",
    "\n",
    "    plt.tight_layout()\n",
    "\n",
    "    plt.show()"
   ]
  },
  {
   "cell_type": "code",
   "execution_count": 15,
   "metadata": {},
   "outputs": [
    {
     "data": {
      "text/plain": [
       "count    19407.000000\n",
       "mean        31.198949\n",
       "std         15.819809\n",
       "min          0.000000\n",
       "25%         22.000000\n",
       "50%         30.000000\n",
       "75%         40.000000\n",
       "max         97.000000\n",
       "Name: Edad, dtype: float64"
      ]
     },
     "execution_count": 15,
     "metadata": {},
     "output_type": "execute_result"
    }
   ],
   "source": [
    "base_datos.Edad.describe()"
   ]
  },
  {
   "cell_type": "code",
   "execution_count": 16,
   "metadata": {
    "colab": {
     "base_uri": "https://localhost:8080/",
     "height": 485
    },
    "id": "WgzpLVAe9LJH",
    "outputId": "05baf050-61d4-4860-bc44-5fa514ce7b04"
   },
   "outputs": [
    {
     "data": {
      "image/png": "[encoded data removed]",
      "text/plain": [
       "<Figure size 720x360 with 2 Axes>"
      ]
     },
     "metadata": {
      "needs_background": "light"
     },
     "output_type": "display_data"
    }
   ],
   "source": [
    "comp_grap(base_datos.Edad, 'Edad', 'Edad en años', 'Box plot Edad', 'Distribución de la edad')"
   ]
  },
  {
   "cell_type": "markdown",
   "metadata": {},
   "source": [
    "The description of age reveals that the count of data is 19,407 observations. The mean age is approximately 31.2 years, with a standard deviation of around 15.8 years. The minimum recorded value is 0 years, indicating the presence of outliers or data collection errors. 25% of the recorded ages are below 22 years, while 50% are below 30 years. 75% of the ages fall below 40 years, indicating a distribution skewed towards younger ages. The maximum recorded age is 97 years, suggesting the presence of a smaller group of older individuals in the dataset."
   ]
  },
  {
   "cell_type": "code",
   "execution_count": 17,
   "metadata": {
    "id": "1T6LukEywH2S"
   },
   "outputs": [],
   "source": [
    "def bar_graps(var, x_label, y_label, title, rot):\n",
    "    \"\"\"\n",
    "    Arguments:\n",
    "\n",
    "    -var: categorical variable to create the bar chart.\n",
    "    -x_label: label for the x-axis.\n",
    "    -y_label: label for the y-axis.\n",
    "    -title: title of the chart.\n",
    "    -rot: rotation angle of the x-axis labels (in degrees).\n",
    "    Returns:\n",
    "\n",
    "    -None: displays the bar chart.\n",
    "    \"\"\"\n",
    "    plt.bar(var.value_counts().index.to_list(), var.value_counts().to_list() )\n",
    "    plt.xlabel(x_label)\n",
    "    plt.ylabel(y_label)\n",
    "    plt.title(title)\n",
    "    plt.xticks(rotation=rot)\n",
    "    plt.show()"
   ]
  },
  {
   "cell_type": "code",
   "execution_count": 18,
   "metadata": {
    "colab": {
     "base_uri": "https://localhost:8080/",
     "height": 587
    },
    "id": "Y65d6862wkQJ",
    "outputId": "ee3dcfd9-c3de-4a4e-8c99-6ff35cd838d1"
   },
   "outputs": [
    {
     "data": {
      "image/png": "[encoded data removed]",
      "text/plain": [
       "<Figure size 432x288 with 1 Axes>"
      ]
     },
     "metadata": {
      "needs_background": "light"
     },
     "output_type": "display_data"
    }
   ],
   "source": [
    "# Distribución de lugar de atención\n",
    "bar_graps(base_datos.SedeAtencion, 'Sede de atención', 'Valores', 'Gráfico de barras de sede de atención', 45)\n"
   ]
  },
  {
   "cell_type": "code",
   "execution_count": 19,
   "metadata": {},
   "outputs": [
    {
     "data": {
      "text/plain": [
       "VS UUBC LAS AMERICAS    0.470500\n",
       "VS UUBC CALLE 98        0.308033\n",
       "VS UUBC SOACHA          0.202659\n",
       "VS UUBC AMERICAS 2      0.018808\n",
       "Name: SedeAtencion, dtype: float64"
      ]
     },
     "execution_count": 19,
     "metadata": {},
     "output_type": "execute_result"
    }
   ],
   "source": [
    "base_datos.SedeAtencion.value_counts(normalize = True)"
   ]
  },
  {
   "cell_type": "markdown",
   "metadata": {},
   "source": [
    "These values represent percentages of attention distribution across different locations. UUBC Las Américas accounts for 47.05% of the total attention, making it the location with the highest proportion. UUBC Calle 98 follows with 30.80% of the attention, indicating a slightly lower percentage. UUBC Soacha represents 20.27% of the attention, while UUBC Americas 2 has the lowest percentage at 1.88%. These figures highlight the varying proportions of attention allocated to each respective location."
   ]
  },
  {
   "cell_type": "code",
   "execution_count": 20,
   "metadata": {
    "colab": {
     "base_uri": "https://localhost:8080/",
     "height": 472
    },
    "id": "9r0wtj151wGj",
    "outputId": "baff1c5a-28e9-4a8b-e0af-8cc315945ec4"
   },
   "outputs": [
    {
     "data": {
      "image/png": "[encoded data removed]",
      "text/plain": [
       "<Figure size 432x288 with 1 Axes>"
      ]
     },
     "metadata": {
      "needs_background": "light"
     },
     "output_type": "display_data"
    }
   ],
   "source": [
    "# Distribución de lugar de atención\n",
    "bar_graps(base_datos.Genero, 'Genero', 'Valores', 'Gráfico de barras de Genero', 0)"
   ]
  },
  {
   "cell_type": "code",
   "execution_count": 21,
   "metadata": {},
   "outputs": [
    {
     "data": {
      "text/plain": [
       "Femenino     0.560726\n",
       "Masculino    0.439274\n",
       "Name: Genero, dtype: float64"
      ]
     },
     "execution_count": 21,
     "metadata": {},
     "output_type": "execute_result"
    }
   ],
   "source": [
    "base_datos.Genero.value_counts(normalize = True)"
   ]
  },
  {
   "cell_type": "markdown",
   "metadata": {},
   "source": [
    "The percentage breakdown of the patient population by gender reveals that 56.07% are female, while 43.93% are male. This indicates that a larger proportion of the patients are female, accounting for over half of the total population, while males make up the remaining percentage."
   ]
  },
  {
   "cell_type": "code",
   "execution_count": 22,
   "metadata": {
    "colab": {
     "base_uri": "https://localhost:8080/",
     "height": 473
    },
    "id": "GWftrSM71vui",
    "outputId": "79ee1d9c-5c71-4b9a-f83b-20ed4201c6ee"
   },
   "outputs": [
    {
     "data": {
      "image/png": "[encoded data removed]",
      "text/plain": [
       "<Figure size 432x288 with 1 Axes>"
      ]
     },
     "metadata": {
      "needs_background": "light"
     },
     "output_type": "display_data"
    }
   ],
   "source": [
    "# Distribución de lugar de atención\n",
    "bar_graps(base_datos.TipoAfiliado, 'Tipo afiliación', 'Valores', 'Gráfico de barras de Tipo afiliación', 0)"
   ]
  },
  {
   "cell_type": "code",
   "execution_count": 23,
   "metadata": {},
   "outputs": [
    {
     "data": {
      "text/plain": [
       "Cotizante       0.692585\n",
       "Beneficiario    0.307157\n",
       "Inexistente     0.000258\n",
       "Name: TipoAfiliado, dtype: float64"
      ]
     },
     "execution_count": 23,
     "metadata": {},
     "output_type": "execute_result"
    }
   ],
   "source": [
    "base_datos.TipoAfiliado.value_counts(normalize = True)"
   ]
  },
  {
   "cell_type": "markdown",
   "metadata": {},
   "source": [
    "These values pertain to the type of affiliation among individuals. The breakdown is as follows: 69.26% are classified as \"Cotizante\" (contributor), 30.72% are \"Beneficiario\" (beneficiary), and a very small proportion of 0.03% are labeled as \"Inexistente\" (non-existent). These percentages provide insights into the distribution of individuals based on their affiliation types within the dataset."
   ]
  },
  {
   "cell_type": "markdown",
   "metadata": {
    "id": "_2HKWsdq1N4i"
   },
   "source": [
    "### Base de consultas"
   ]
  },
  {
   "cell_type": "code",
   "execution_count": 24,
   "metadata": {
    "colab": {
     "base_uri": "https://localhost:8080/",
     "height": 367
    },
    "id": "genYGyZj1Qwc",
    "outputId": "7dc9c7b5-8abc-4f1b-9619-6afa20d7f201"
   },
   "outputs": [
    {
     "data": {
      "text/html": [
       "<div>\n",
       "<style scoped>\n",
       "    .dataframe tbody tr th:only-of-type {\n",
       "        vertical-align: middle;\n",
       "    }\n",
       "\n",
       "    .dataframe tbody tr th {\n",
       "        vertical-align: top;\n",
       "    }\n",
       "\n",
       "    .dataframe thead th {\n",
       "        text-align: right;\n",
       "    }\n",
       "</style>\n",
       "<table border=\"1\" class=\"dataframe\">\n",
       "  <thead>\n",
       "    <tr style=\"text-align: right;\">\n",
       "      <th></th>\n",
       "      <th>ID_TM_Afiliado_cod</th>\n",
       "      <th>IdConsulta_cod</th>\n",
       "      <th>Fecha</th>\n",
       "      <th>DIA</th>\n",
       "      <th>MES</th>\n",
       "      <th>AÑO</th>\n",
       "      <th>TAS</th>\n",
       "      <th>TAD</th>\n",
       "      <th>TAM</th>\n",
       "      <th>FC</th>\n",
       "      <th>FR</th>\n",
       "      <th>Temp</th>\n",
       "      <th>Oximetria</th>\n",
       "      <th>Anotacion TRIAGE Consulta</th>\n",
       "      <th>ClasificaTriage</th>\n",
       "    </tr>\n",
       "  </thead>\n",
       "  <tbody>\n",
       "    <tr>\n",
       "      <th>0</th>\n",
       "      <td>0a2540cbb1716ce37fc2ff4bc3235cc7</td>\n",
       "      <td>9a496b44126d7e7f78cb73a5f9efff7a</td>\n",
       "      <td>24/12/2021</td>\n",
       "      <td>24</td>\n",
       "      <td>12</td>\n",
       "      <td>2021</td>\n",
       "      <td>128</td>\n",
       "      <td>70</td>\n",
       "      <td>89,33</td>\n",
       "      <td>91</td>\n",
       "      <td>19</td>\n",
       "      <td>360.0</td>\n",
       "      <td>98</td>\n",
       "      <td>M.C:  TENGO UN DOLOR ABDOMINAL EN LA PARTE INF...</td>\n",
       "      <td>2</td>\n",
       "    </tr>\n",
       "    <tr>\n",
       "      <th>1</th>\n",
       "      <td>cbbf900f3088367926b2807ccd0b7f3a</td>\n",
       "      <td>2bf9ceccb7de98e28c2c9aaa405b2626</td>\n",
       "      <td>7/01/2022</td>\n",
       "      <td>7</td>\n",
       "      <td>1</td>\n",
       "      <td>2022</td>\n",
       "      <td>122</td>\n",
       "      <td>78</td>\n",
       "      <td>92,67</td>\n",
       "      <td>100</td>\n",
       "      <td>18</td>\n",
       "      <td>380.0</td>\n",
       "      <td>97</td>\n",
       "      <td>PACIENTE REFIERE   DOLOR DE ESPALDA  Y   DOLOR...</td>\n",
       "      <td>3</td>\n",
       "    </tr>\n",
       "  </tbody>\n",
       "</table>\n",
       "</div>"
      ],
      "text/plain": [
       "                 ID_TM_Afiliado_cod                    IdConsulta_cod  \\\n",
       "0  0a2540cbb1716ce37fc2ff4bc3235cc7  9a496b44126d7e7f78cb73a5f9efff7a   \n",
       "1  cbbf900f3088367926b2807ccd0b7f3a  2bf9ceccb7de98e28c2c9aaa405b2626   \n",
       "\n",
       "        Fecha  DIA  MES   AÑO  TAS  TAD    TAM   FC  FR   Temp  Oximetria  \\\n",
       "0  24/12/2021   24   12  2021  128   70  89,33   91  19  360.0         98   \n",
       "1   7/01/2022    7    1  2022  122   78  92,67  100  18  380.0         97   \n",
       "\n",
       "                           Anotacion TRIAGE Consulta  ClasificaTriage  \n",
       "0  M.C:  TENGO UN DOLOR ABDOMINAL EN LA PARTE INF...                2  \n",
       "1  PACIENTE REFIERE   DOLOR DE ESPALDA  Y   DOLOR...                3  "
      ]
     },
     "execution_count": 24,
     "metadata": {},
     "output_type": "execute_result"
    }
   ],
   "source": [
    "base_consulta.head(2)"
   ]
  },
  {
   "cell_type": "code",
   "execution_count": 25,
   "metadata": {
    "colab": {
     "base_uri": "https://localhost:8080/"
    },
    "id": "DV1yW7KJ1QoR",
    "outputId": "f7ac137f-948c-4c8e-b9ac-5d7adbaded85"
   },
   "outputs": [
    {
     "data": {
      "text/plain": [
       "(20000, 15)"
      ]
     },
     "execution_count": 25,
     "metadata": {},
     "output_type": "execute_result"
    }
   ],
   "source": [
    "# Nro de registros y columnas\n",
    "base_consulta.shape"
   ]
  },
  {
   "cell_type": "code",
   "execution_count": 26,
   "metadata": {
    "colab": {
     "base_uri": "https://localhost:8080/"
    },
    "id": "mALWoOJ51Qgs",
    "outputId": "ed53f2e3-2b0a-40e2-afb3-d2f5b5c1ed26"
   },
   "outputs": [
    {
     "data": {
      "text/plain": [
       "0"
      ]
     },
     "execution_count": 26,
     "metadata": {},
     "output_type": "execute_result"
    }
   ],
   "source": [
    "# Nro duplicados\n",
    "base_consulta.duplicated().sum()"
   ]
  },
  {
   "cell_type": "code",
   "execution_count": 27,
   "metadata": {
    "colab": {
     "base_uri": "https://localhost:8080/"
    },
    "id": "Z8hP5iEE1QXG",
    "outputId": "8931f38b-4e2e-4270-a1a1-f07fb12b664e"
   },
   "outputs": [
    {
     "data": {
      "text/plain": [
       "ID_TM_Afiliado_cod           19062\n",
       "IdConsulta_cod               20000\n",
       "Fecha                          502\n",
       "DIA                             31\n",
       "MES                             12\n",
       "AÑO                              2\n",
       "TAS                            168\n",
       "TAD                            125\n",
       "TAM                            332\n",
       "FC                             163\n",
       "FR                              73\n",
       "Temp                             8\n",
       "Oximetria                       50\n",
       "Anotacion TRIAGE Consulta    19613\n",
       "ClasificaTriage                  5\n",
       "dtype: int64"
      ]
     },
     "execution_count": 27,
     "metadata": {},
     "output_type": "execute_result"
    }
   ],
   "source": [
    "# Nro valores unicos por columna\n",
    "base_consulta.nunique()"
   ]
  },
  {
   "cell_type": "code",
   "execution_count": 28,
   "metadata": {
    "colab": {
     "base_uri": "https://localhost:8080/"
    },
    "id": "b8T3niDw1QUg",
    "outputId": "c2787239-2760-4932-cc4c-a7b69ec93e46"
   },
   "outputs": [
    {
     "data": {
      "text/plain": [
       "ID_TM_Afiliado_cod            0\n",
       "IdConsulta_cod                0\n",
       "Fecha                         0\n",
       "DIA                           0\n",
       "MES                           0\n",
       "AÑO                           0\n",
       "TAS                           0\n",
       "TAD                           0\n",
       "TAM                           0\n",
       "FC                            0\n",
       "FR                            0\n",
       "Temp                         46\n",
       "Oximetria                     0\n",
       "Anotacion TRIAGE Consulta     0\n",
       "ClasificaTriage               0\n",
       "dtype: int64"
      ]
     },
     "execution_count": 28,
     "metadata": {},
     "output_type": "execute_result"
    }
   ],
   "source": [
    "# Valores faltantes\n",
    "base_consulta.isna().sum()"
   ]
  },
  {
   "cell_type": "code",
   "execution_count": 29,
   "metadata": {
    "colab": {
     "base_uri": "https://localhost:8080/",
     "height": 472
    },
    "id": "OhQBHczK7W1h",
    "outputId": "5a531ea5-f849-43d4-9910-1d74957e20d4"
   },
   "outputs": [
    {
     "data": {
      "image/png": "[encoded data removed]",
      "text/plain": [
       "<Figure size 432x288 with 1 Axes>"
      ]
     },
     "metadata": {
      "needs_background": "light"
     },
     "output_type": "display_data"
    }
   ],
   "source": [
    "# Distribución de lugar de atención\n",
    "bar_graps(base_consulta.ClasificaTriage , 'Etiqueta Triage', 'Valores', 'Gráfico de barras de Clasificación Triage', 0)"
   ]
  },
  {
   "cell_type": "code",
   "execution_count": 30,
   "metadata": {},
   "outputs": [
    {
     "data": {
      "text/plain": [
       "3    0.3100\n",
       "2    0.3010\n",
       "4    0.2714\n",
       "1    0.1158\n",
       "0    0.0018\n",
       "Name: ClasificaTriage, dtype: float64"
      ]
     },
     "execution_count": 30,
     "metadata": {},
     "output_type": "execute_result"
    }
   ],
   "source": [
    "base_consulta.ClasificaTriage.value_counts(normalize = True)"
   ]
  },
  {
   "cell_type": "markdown",
   "metadata": {},
   "source": [
    "These values represent the distribution of consultations across different Triage categories. It's important to note that there are 5 categories, with 1 being the most critical and 5 being the least critical. Here is the breakdown along with the corresponding percentages:\n",
    "\n",
    "* Category 3: 31.00%\n",
    "* Category 2: 30.10%\n",
    "* Category 4: 27.14%\n",
    "* Category 1: 11.58%\n",
    "* Category 0: 0.18%\n",
    "\n",
    "It is worth mentioning that **Category 1 will not be used** in the analysis as it represents less than 1% of the data. These percentages provide insights into the relative distribution of consultations across the Triage categories, with Categories 3 and 2 being the most commonly observed."
   ]
  },
  {
   "cell_type": "code",
   "execution_count": 31,
   "metadata": {
    "id": "_IOF7d1i_Uo4"
   },
   "outputs": [],
   "source": [
    "base_consulta['TAM'] = base_consulta['TAM'].str.replace(',', '.').astype(float)"
   ]
  },
  {
   "cell_type": "code",
   "execution_count": 32,
   "metadata": {
    "colab": {
     "base_uri": "https://localhost:8080/",
     "height": 497
    },
    "id": "JRbXpH2kB_TF",
    "outputId": "8c498c9a-1e6b-4128-af98-2eed37620ff9"
   },
   "outputs": [
    {
     "data": {
      "image/png": "[encoded data removed]",
      "text/plain": [
       "<Figure size 432x288 with 2 Axes>"
      ]
     },
     "metadata": {
      "needs_background": "light"
     },
     "output_type": "display_data"
    }
   ],
   "source": [
    "# Obtener la matriz de correlación\n",
    "corr_matrix = base_consulta [['TAS', 'TAD', 'TAM', 'FC', 'FR', 'Temp', 'Oximetria']].corr()\n",
    "\n",
    "# Crear el mapa de calor\n",
    "sns.heatmap(corr_matrix, annot=True, cmap='coolwarm')\n",
    "\n",
    "# Personalizar el mapa de calor\n",
    "plt.title('Matriz de correlación')\n",
    "plt.xticks(rotation=45)\n",
    "plt.yticks(rotation=0)\n",
    "\n",
    "# Mostrar el mapa de calor\n",
    "plt.show()"
   ]
  },
  {
   "cell_type": "markdown",
   "metadata": {},
   "source": [
    "### Reamrk\n",
    "\n",
    "The correlation matrix reveals the correlations among different variables. It's important to note that the variables TAS (Systolic Blood Pressure), TAD (Diastolic Blood Pressure), and TAM (Mean Arterial Pressure) exhibit high correlation coefficients. Therefore, we will only use TAM, as it is derived from both TAD and TAS.\n",
    "\n",
    "Based on the high correlation between TAS, TAD, and TAM, we will use TAM as the representative variable."
   ]
  },
  {
   "cell_type": "code",
   "execution_count": 33,
   "metadata": {
    "colab": {
     "base_uri": "https://localhost:8080/",
     "height": 484
    },
    "id": "HFsrokvf-1J6",
    "outputId": "66a0030f-5a76-4997-eda2-0fdb21b270b8"
   },
   "outputs": [
    {
     "data": {
      "image/png": "[encoded data removed]",
      "text/plain": [
       "<Figure size 720x360 with 2 Axes>"
      ]
     },
     "metadata": {
      "needs_background": "light"
     },
     "output_type": "display_data"
    }
   ],
   "source": [
    "comp_grap(base_consulta.TAM, 'TAM', 'Escala TAM', 'Box plot TAM', 'Distribución de TAM')"
   ]
  },
  {
   "cell_type": "code",
   "execution_count": 34,
   "metadata": {},
   "outputs": [
    {
     "data": {
      "text/plain": [
       "count    20000.000000\n",
       "mean        82.487433\n",
       "std         29.482035\n",
       "min          0.000000\n",
       "25%         82.000000\n",
       "50%         89.330000\n",
       "75%         96.000000\n",
       "max        202.000000\n",
       "Name: TAM, dtype: float64"
      ]
     },
     "execution_count": 34,
     "metadata": {},
     "output_type": "execute_result"
    }
   ],
   "source": [
    "base_consulta.TAM.describe()"
   ]
  },
  {
   "cell_type": "markdown",
   "metadata": {},
   "source": [
    "The descriptive statistics for TAM (Mean Arterial Pressure) are as follows: The mean value is 82.487433, with a standard deviation of 29.482035. The minimum recorded value is 0.000000, indicating the presence of potential outliers or measurement errors. The 25th percentile is 82.000000, meaning that 25% of the data falls below this value. The median (50th percentile) is 89.330000, representing the midpoint of the data distribution. The 75th percentile is 96.000000, indicating that 75% of the data falls below this value. The maximum recorded value is 202.000000, highlighting the presence of potentially extreme measurements. These statistics provide a summary of the distribution and variability of the Mean Arterial Pressure values."
   ]
  },
  {
   "cell_type": "code",
   "execution_count": 35,
   "metadata": {
    "colab": {
     "base_uri": "https://localhost:8080/",
     "height": 484
    },
    "id": "iVz7omSQCw2L",
    "outputId": "55215549-b070-4d9e-e069-7541de78525a"
   },
   "outputs": [
    {
     "data": {
      "image/png": "[encoded data removed]",
      "text/plain": [
       "<Figure size 720x360 with 2 Axes>"
      ]
     },
     "metadata": {
      "needs_background": "light"
     },
     "output_type": "display_data"
    }
   ],
   "source": [
    "comp_grap(base_consulta.FC, 'FC', 'Escala FC', 'Box plot FC', 'Distribución de FC')"
   ]
  },
  {
   "cell_type": "code",
   "execution_count": 36,
   "metadata": {},
   "outputs": [
    {
     "data": {
      "text/plain": [
       "count    20000.000000\n",
       "mean        87.850500\n",
       "std         19.922269\n",
       "min          0.000000\n",
       "25%         75.000000\n",
       "50%         84.000000\n",
       "75%         97.000000\n",
       "max        210.000000\n",
       "Name: FC, dtype: float64"
      ]
     },
     "execution_count": 36,
     "metadata": {},
     "output_type": "execute_result"
    }
   ],
   "source": [
    "base_consulta.FC.describe()"
   ]
  },
  {
   "cell_type": "markdown",
   "metadata": {},
   "source": [
    "The descriptive statistics for Heart Rate (FC) are as follows: The mean value is 87.850500, with a standard deviation of 19.922269. The minimum recorded value is 0.000000, indicating potential outliers or measurement errors. The 25th percentile is 75.000000, meaning that 25% of the data falls below this value. The median (50th percentile) is 84.000000, representing the midpoint of the data distribution. The 75th percentile is 97.000000, indicating that 75% of the data falls below this value. The maximum recorded value is 210.000000, suggesting the presence of potentially extreme measurements. These statistics provide a summary of the distribution and variability of Heart Rate values."
   ]
  },
  {
   "cell_type": "code",
   "execution_count": 37,
   "metadata": {
    "colab": {
     "base_uri": "https://localhost:8080/",
     "height": 484
    },
    "id": "TFyYlj9dC5J_",
    "outputId": "e3daa075-e915-432c-f5dc-0a6317644098"
   },
   "outputs": [
    {
     "data": {
      "image/png": "[encoded data removed]",
      "text/plain": [
       "<Figure size 720x360 with 2 Axes>"
      ]
     },
     "metadata": {
      "needs_background": "light"
     },
     "output_type": "display_data"
    }
   ],
   "source": [
    "comp_grap(base_consulta.FR, 'FR', 'Escala FR', 'Box plot FR', 'Distribución de FR')"
   ]
  },
  {
   "cell_type": "code",
   "execution_count": 38,
   "metadata": {},
   "outputs": [
    {
     "data": {
      "text/plain": [
       "count    20000.000000\n",
       "mean        19.168950\n",
       "std          5.566584\n",
       "min          0.000000\n",
       "25%         18.000000\n",
       "50%         18.000000\n",
       "75%         20.000000\n",
       "max        100.000000\n",
       "Name: FR, dtype: float64"
      ]
     },
     "execution_count": 38,
     "metadata": {},
     "output_type": "execute_result"
    }
   ],
   "source": [
    "base_consulta.FR.describe()"
   ]
  },
  {
   "cell_type": "markdown",
   "metadata": {},
   "source": [
    "The descriptive statistics for Respiratory Rate (FR) are as follows: The mean value is 19.168950, with a standard deviation of 5.566584. The minimum recorded value is 0.000000, suggesting potential outliers or measurement errors. The 25th percentile is 18.000000, indicating that 25% of the data falls below this value. Both the median (50th percentile) and the 75th percentile are 18.000000, suggesting that the data is concentrated around this value. The maximum recorded value is 100.000000, indicating the presence of potentially extreme measurements. These statistics provide a summary of the distribution and variability of Respiratory Rate values."
   ]
  },
  {
   "cell_type": "code",
   "execution_count": 39,
   "metadata": {
    "colab": {
     "base_uri": "https://localhost:8080/",
     "height": 484
    },
    "id": "kGE69YrkDELR",
    "outputId": "2da4cc5e-6cb3-4394-d554-a928f9666971"
   },
   "outputs": [
    {
     "data": {
      "image/png": "[encoded data removed]",
      "text/plain": [
       "<Figure size 720x360 with 2 Axes>"
      ]
     },
     "metadata": {
      "needs_background": "light"
     },
     "output_type": "display_data"
    }
   ],
   "source": [
    "comp_grap(base_consulta.Oximetria, 'Oximetria', 'Escala Oximetria', 'Box plot Oximetria', 'Distribución de Oximetria')"
   ]
  },
  {
   "cell_type": "code",
   "execution_count": 40,
   "metadata": {},
   "outputs": [
    {
     "data": {
      "text/plain": [
       "count    20000.000000\n",
       "mean        94.927900\n",
       "std          4.693475\n",
       "min          0.000000\n",
       "25%         94.000000\n",
       "50%         95.000000\n",
       "75%         97.000000\n",
       "max        100.000000\n",
       "Name: Oximetria, dtype: float64"
      ]
     },
     "execution_count": 40,
     "metadata": {},
     "output_type": "execute_result"
    }
   ],
   "source": [
    "base_consulta.Oximetria.describe()"
   ]
  },
  {
   "cell_type": "markdown",
   "metadata": {},
   "source": [
    "### Remark \n",
    "\n",
    "Finally, it is worth mentioning that there are many outliers observed in the vital signs variables. However, it is important to note that these data points are from an emergency room setting, where the presence of outliers is expected. Therefore, **no outlier data will be removed from the dataset**, as they are considered valuable and representative of the real-world scenarios encountered in an emergency healthcare environment."
   ]
  },
  {
   "cell_type": "code",
   "execution_count": 41,
   "metadata": {
    "colab": {
     "base_uri": "https://localhost:8080/",
     "height": 327
    },
    "id": "PCqeFCmG5s5N",
    "outputId": "23e5ce13-0340-48d3-ce4b-f1891133f909"
   },
   "outputs": [
    {
     "data": {
      "image/png": "[encoded data removed]",
      "text/plain": [
       "<Figure size 1080x360 with 3 Axes>"
      ]
     },
     "metadata": {
      "needs_background": "light"
     },
     "output_type": "display_data"
    }
   ],
   "source": [
    "# Box plot de la variable edad\n",
    "fig, (ax1,ax2, ax3) = plt.subplots(1, 3,figsize=(15,5))\n",
    "#plt.figure(figsize=(8,12))\n",
    "ax1.bar(base_consulta.groupby('DIA')['DIA'].count().sort_values(ascending = False).index.to_list(), base_consulta.groupby('DIA')['DIA'].count().sort_values(ascending = False).values )\n",
    "ax1.set_xlabel('Dia mes')\n",
    "ax1.set_ylabel('conteo')\n",
    "ax1.set_title('Consultas por dia')\n",
    "\n",
    "ax2.bar(base_consulta.groupby('MES')['MES'].count().sort_values(ascending = False).index.to_list(), base_consulta.groupby('MES')['MES'].count().sort_values(ascending = False).values )\n",
    "ax2.set_xlabel('Mes')\n",
    "ax2.set_ylabel('Conteo')\n",
    "ax2.set_title('Consultas por mes')\n",
    "\n",
    "ax3.bar(['2021','2022'], base_consulta.groupby('AÑO')['AÑO'].count().sort_values(ascending = False).values )\n",
    "ax3.set_xlabel('Año')\n",
    "ax3.set_ylabel('Conteo')\n",
    "ax3.set_title('Consultas por año')\n",
    "\n",
    "plt.tight_layout()\n",
    "\n",
    "plt.show()"
   ]
  },
  {
   "cell_type": "code",
   "execution_count": 42,
   "metadata": {},
   "outputs": [
    {
     "data": {
      "text/plain": [
       "AÑO\n",
       "2021    0.57945\n",
       "2022    0.42055\n",
       "Name: AÑO, dtype: float64"
      ]
     },
     "execution_count": 42,
     "metadata": {},
     "output_type": "execute_result"
    }
   ],
   "source": [
    "base_consulta.groupby('AÑO')['AÑO'].count()/20000"
   ]
  },
  {
   "cell_type": "code",
   "execution_count": 43,
   "metadata": {},
   "outputs": [
    {
     "data": {
      "text/plain": [
       "DIA\n",
       "18    0.03735\n",
       "17    0.03735\n",
       "21    0.03710\n",
       "23    0.03635\n",
       "11    0.03610\n",
       "28    0.03540\n",
       "13    0.03540\n",
       "25    0.03505\n",
       "24    0.03430\n",
       "16    0.03400\n",
       "14    0.03395\n",
       "10    0.03385\n",
       "22    0.03370\n",
       "19    0.03365\n",
       "4     0.03350\n",
       "2     0.03335\n",
       "12    0.03290\n",
       "7     0.03290\n",
       "20    0.03190\n",
       "27    0.03140\n",
       "26    0.03125\n",
       "6     0.03085\n",
       "15    0.03085\n",
       "8     0.03080\n",
       "3     0.03075\n",
       "5     0.02955\n",
       "9     0.02925\n",
       "29    0.02755\n",
       "1     0.02735\n",
       "30    0.02675\n",
       "31    0.01555\n",
       "Name: DIA, dtype: float64"
      ]
     },
     "execution_count": 43,
     "metadata": {},
     "output_type": "execute_result"
    }
   ],
   "source": [
    "base_consulta.groupby('DIA')['DIA'].count().sort_values(ascending = False)/20000"
   ]
  },
  {
   "cell_type": "code",
   "execution_count": 44,
   "metadata": {},
   "outputs": [
    {
     "data": {
      "text/plain": [
       "MES\n",
       "1     0.11565\n",
       "3     0.09740\n",
       "6     0.09065\n",
       "4     0.08490\n",
       "2     0.07900\n",
       "7     0.07875\n",
       "9     0.07820\n",
       "11    0.07725\n",
       "8     0.07595\n",
       "5     0.07505\n",
       "10    0.07365\n",
       "12    0.07355\n",
       "Name: MES, dtype: float64"
      ]
     },
     "execution_count": 44,
     "metadata": {},
     "output_type": "execute_result"
    }
   ],
   "source": [
    "base_consulta.groupby('MES')['MES'].count().sort_values(ascending = False)/20000"
   ]
  },
  {
   "cell_type": "markdown",
   "metadata": {},
   "source": [
    "On the other hand, more than 51% of the attentions were given in the first half of the year. In addition, the days with the least number of queries are generally in the last days of the month, as shown below."
   ]
  },
  {
   "cell_type": "markdown",
   "metadata": {
    "id": "HqB7TWiN2_8a"
   },
   "source": [
    "## Data Preprocessing\n",
    "Data preprocessing stages were performed to ensure the quality and consistency of the data. This included handling outliers, normalizing numerical data, and encoding categorical variables. Text analysis was also conducted to transform the text recorded by healthcare professionals into numerical features that could be used by the model.\n"
   ]
  },
  {
   "cell_type": "code",
   "execution_count": 45,
   "metadata": {
    "id": "b5r_PH8o24NA"
   },
   "outputs": [],
   "source": [
    "base = base_datos.merge(base_consulta, on = ['ID_TM_Afiliado_cod'], how = 'left').drop_duplicates(['ID_TM_Afiliado_cod', 'IdConsulta_cod'])"
   ]
  },
  {
   "cell_type": "code",
   "execution_count": 46,
   "metadata": {
    "colab": {
     "base_uri": "https://localhost:8080/"
    },
    "id": "ndE4RQ2Vj7fs",
    "outputId": "b8524f30-0ff1-4f8f-c399-f31a7ff2988f"
   },
   "outputs": [
    {
     "data": {
      "text/plain": [
       "ID_TM_Afiliado_cod           19062\n",
       "Edad                            94\n",
       "Genero                           2\n",
       "SedeAtencion                     4\n",
       "TipoAtencion                     1\n",
       "TipoAfiliado                     3\n",
       "IdConsulta_cod               20000\n",
       "Fecha                          502\n",
       "DIA                             31\n",
       "MES                             12\n",
       "AÑO                              2\n",
       "TAS                            168\n",
       "TAD                            125\n",
       "TAM                            332\n",
       "FC                             163\n",
       "FR                              73\n",
       "Temp                             8\n",
       "Oximetria                       50\n",
       "Anotacion TRIAGE Consulta    19613\n",
       "ClasificaTriage                  5\n",
       "dtype: int64"
      ]
     },
     "execution_count": 46,
     "metadata": {},
     "output_type": "execute_result"
    }
   ],
   "source": [
    "base.nunique()"
   ]
  },
  {
   "cell_type": "code",
   "execution_count": 47,
   "metadata": {
    "colab": {
     "base_uri": "https://localhost:8080/",
     "height": 367
    },
    "id": "dpEi8iQn3PXo",
    "outputId": "543e5576-393c-4f65-b9ed-7a75bb7f6b5c"
   },
   "outputs": [
    {
     "data": {
      "text/html": [
       "<div>\n",
       "<style scoped>\n",
       "    .dataframe tbody tr th:only-of-type {\n",
       "        vertical-align: middle;\n",
       "    }\n",
       "\n",
       "    .dataframe tbody tr th {\n",
       "        vertical-align: top;\n",
       "    }\n",
       "\n",
       "    .dataframe thead th {\n",
       "        text-align: right;\n",
       "    }\n",
       "</style>\n",
       "<table border=\"1\" class=\"dataframe\">\n",
       "  <thead>\n",
       "    <tr style=\"text-align: right;\">\n",
       "      <th></th>\n",
       "      <th>ID_TM_Afiliado_cod</th>\n",
       "      <th>Edad</th>\n",
       "      <th>Genero</th>\n",
       "      <th>SedeAtencion</th>\n",
       "      <th>TipoAtencion</th>\n",
       "      <th>TipoAfiliado</th>\n",
       "      <th>IdConsulta_cod</th>\n",
       "      <th>Fecha</th>\n",
       "      <th>DIA</th>\n",
       "      <th>MES</th>\n",
       "      <th>AÑO</th>\n",
       "      <th>TAS</th>\n",
       "      <th>TAD</th>\n",
       "      <th>TAM</th>\n",
       "      <th>FC</th>\n",
       "      <th>FR</th>\n",
       "      <th>Temp</th>\n",
       "      <th>Oximetria</th>\n",
       "      <th>Anotacion TRIAGE Consulta</th>\n",
       "      <th>ClasificaTriage</th>\n",
       "    </tr>\n",
       "  </thead>\n",
       "  <tbody>\n",
       "    <tr>\n",
       "      <th>0</th>\n",
       "      <td>0a2540cbb1716ce37fc2ff4bc3235cc7</td>\n",
       "      <td>27</td>\n",
       "      <td>Femenino</td>\n",
       "      <td>VS UUBC LAS AMERICAS</td>\n",
       "      <td>Triage</td>\n",
       "      <td>Cotizante</td>\n",
       "      <td>9a496b44126d7e7f78cb73a5f9efff7a</td>\n",
       "      <td>24/12/2021</td>\n",
       "      <td>24</td>\n",
       "      <td>12</td>\n",
       "      <td>2021</td>\n",
       "      <td>128</td>\n",
       "      <td>70</td>\n",
       "      <td>89.33</td>\n",
       "      <td>91</td>\n",
       "      <td>19</td>\n",
       "      <td>360.0</td>\n",
       "      <td>98</td>\n",
       "      <td>M.C:  TENGO UN DOLOR ABDOMINAL EN LA PARTE INF...</td>\n",
       "      <td>2</td>\n",
       "    </tr>\n",
       "    <tr>\n",
       "      <th>1</th>\n",
       "      <td>cbbf900f3088367926b2807ccd0b7f3a</td>\n",
       "      <td>22</td>\n",
       "      <td>Femenino</td>\n",
       "      <td>VS UUBC LAS AMERICAS</td>\n",
       "      <td>Triage</td>\n",
       "      <td>Cotizante</td>\n",
       "      <td>2bf9ceccb7de98e28c2c9aaa405b2626</td>\n",
       "      <td>7/01/2022</td>\n",
       "      <td>7</td>\n",
       "      <td>1</td>\n",
       "      <td>2022</td>\n",
       "      <td>122</td>\n",
       "      <td>78</td>\n",
       "      <td>92.67</td>\n",
       "      <td>100</td>\n",
       "      <td>18</td>\n",
       "      <td>380.0</td>\n",
       "      <td>97</td>\n",
       "      <td>PACIENTE REFIERE   DOLOR DE ESPALDA  Y   DOLOR...</td>\n",
       "      <td>3</td>\n",
       "    </tr>\n",
       "  </tbody>\n",
       "</table>\n",
       "</div>"
      ],
      "text/plain": [
       "                 ID_TM_Afiliado_cod  Edad    Genero          SedeAtencion  \\\n",
       "0  0a2540cbb1716ce37fc2ff4bc3235cc7    27  Femenino  VS UUBC LAS AMERICAS   \n",
       "1  cbbf900f3088367926b2807ccd0b7f3a    22  Femenino  VS UUBC LAS AMERICAS   \n",
       "\n",
       "  TipoAtencion TipoAfiliado                    IdConsulta_cod       Fecha  \\\n",
       "0       Triage    Cotizante  9a496b44126d7e7f78cb73a5f9efff7a  24/12/2021   \n",
       "1       Triage    Cotizante  2bf9ceccb7de98e28c2c9aaa405b2626   7/01/2022   \n",
       "\n",
       "   DIA  MES   AÑO  TAS  TAD    TAM   FC  FR   Temp  Oximetria  \\\n",
       "0   24   12  2021  128   70  89.33   91  19  360.0         98   \n",
       "1    7    1  2022  122   78  92.67  100  18  380.0         97   \n",
       "\n",
       "                           Anotacion TRIAGE Consulta  ClasificaTriage  \n",
       "0  M.C:  TENGO UN DOLOR ABDOMINAL EN LA PARTE INF...                2  \n",
       "1  PACIENTE REFIERE   DOLOR DE ESPALDA  Y   DOLOR...                3  "
      ]
     },
     "execution_count": 47,
     "metadata": {},
     "output_type": "execute_result"
    }
   ],
   "source": [
    "base.head(2)"
   ]
  },
  {
   "cell_type": "code",
   "execution_count": 48,
   "metadata": {
    "colab": {
     "base_uri": "https://localhost:8080/"
    },
    "id": "HDhhc27b4aPR",
    "outputId": "5d90c709-93c1-4623-cbbe-3a08041c75ac"
   },
   "outputs": [
    {
     "data": {
      "text/plain": [
       "3    0.3100\n",
       "2    0.3010\n",
       "4    0.2714\n",
       "1    0.1158\n",
       "0    0.0018\n",
       "Name: ClasificaTriage, dtype: float64"
      ]
     },
     "execution_count": 48,
     "metadata": {},
     "output_type": "execute_result"
    }
   ],
   "source": [
    "base['ClasificaTriage'].value_counts(normalize = True )"
   ]
  },
  {
   "cell_type": "code",
   "execution_count": 49,
   "metadata": {
    "id": "qWiQv3xxvj2C"
   },
   "outputs": [],
   "source": [
    "# Filtro clase diferente a 0\n",
    "base = base.query('ClasificaTriage > 0')"
   ]
  },
  {
   "cell_type": "code",
   "execution_count": 50,
   "metadata": {
    "colab": {
     "base_uri": "https://localhost:8080/"
    },
    "id": "WkkXB8TjkrrE",
    "outputId": "54af7792-0a25-4e42-ae55-f8e892b260b6"
   },
   "outputs": [
    {
     "data": {
      "text/plain": [
       "ID_TM_Afiliado_cod            0\n",
       "Edad                          0\n",
       "Genero                        0\n",
       "SedeAtencion                  0\n",
       "TipoAtencion                  0\n",
       "TipoAfiliado                  0\n",
       "IdConsulta_cod                0\n",
       "Fecha                         0\n",
       "DIA                           0\n",
       "MES                           0\n",
       "AÑO                           0\n",
       "TAS                           0\n",
       "TAD                           0\n",
       "TAM                           0\n",
       "FC                            0\n",
       "FR                            0\n",
       "Temp                         46\n",
       "Oximetria                     0\n",
       "Anotacion TRIAGE Consulta     0\n",
       "ClasificaTriage               0\n",
       "dtype: int64"
      ]
     },
     "execution_count": 50,
     "metadata": {},
     "output_type": "execute_result"
    }
   ],
   "source": [
    "base.isna().sum()"
   ]
  },
  {
   "cell_type": "code",
   "execution_count": 51,
   "metadata": {
    "id": "PtJqUBVM6KTi"
   },
   "outputs": [],
   "source": [
    "base['Temp']= base['Temp'].fillna(base['Temp'].mean())\n",
    "#base = base.dropna()"
   ]
  },
  {
   "cell_type": "code",
   "execution_count": 52,
   "metadata": {
    "colab": {
     "base_uri": "https://localhost:8080/"
    },
    "id": "RmuRQGxtLGct",
    "outputId": "a9a4620a-2f44-4637-b183-ef4d37b5a781"
   },
   "outputs": [
    {
     "data": {
      "text/plain": [
       "3    6200\n",
       "2    6020\n",
       "4    5428\n",
       "1    2316\n",
       "Name: ClasificaTriage, dtype: int64"
      ]
     },
     "execution_count": 52,
     "metadata": {},
     "output_type": "execute_result"
    }
   ],
   "source": [
    "base['ClasificaTriage'].value_counts( )"
   ]
  },
  {
   "cell_type": "markdown",
   "metadata": {
    "id": "RXkftwajcUW9"
   },
   "source": [
    "## Cleaning"
   ]
  },
  {
   "cell_type": "code",
   "execution_count": 53,
   "metadata": {
    "id": "HpNZ_-TbKWlB"
   },
   "outputs": [],
   "source": [
    "def limpieza(text):\n",
    "  \"\"\"\n",
    "    Performs text cleanup by removing non-alphanumeric characters and converting them to lowercase.\n",
    "\n",
    "    Arguments:\n",
    "    - text: text to clean.\n",
    "\n",
    "    Returns:\n",
    "    - clean_text: clean text without non-alphanumeric characters and in lower case.\n",
    "    \"\"\"\n",
    "  text_limpio = re.sub('[\\W]+', ' ', text.lower())\n",
    "  return text_limpio"
   ]
  },
  {
   "cell_type": "code",
   "execution_count": 54,
   "metadata": {
    "id": "d2UoqPNXot_b"
   },
   "outputs": [],
   "source": [
    "base['final'] = base['Anotacion TRIAGE Consulta'].apply(limpieza).apply(str)"
   ]
  },
  {
   "cell_type": "markdown",
   "metadata": {
    "id": "Q7mYtz30bBOH"
   },
   "source": [
    "# Feature Selection\n",
    "## Number of words\n",
    "\n",
    "Keywords were determined using the tf-idf model, comparing the variance explained by different subsets of words."
   ]
  },
  {
   "cell_type": "code",
   "execution_count": 55,
   "metadata": {
    "id": "91UkX3t5f3vn"
   },
   "outputs": [],
   "source": [
    "my_stopwords = stopwords.words('spanish')"
   ]
  },
  {
   "cell_type": "code",
   "execution_count": 56,
   "metadata": {
    "id": "ZsGDU20LbAna"
   },
   "outputs": [],
   "source": [
    "tfidf = TfidfVectorizer(stop_words= my_stopwords)"
   ]
  },
  {
   "cell_type": "code",
   "execution_count": 57,
   "metadata": {
    "id": "tNVixnSHbhrv"
   },
   "outputs": [],
   "source": [
    "docs = base['final'].values"
   ]
  },
  {
   "cell_type": "code",
   "execution_count": 58,
   "metadata": {
    "id": "ShxrrvWTbAYL"
   },
   "outputs": [],
   "source": [
    "X = tfidf.fit_transform(docs)"
   ]
  },
  {
   "cell_type": "code",
   "execution_count": 59,
   "metadata": {
    "colab": {
     "base_uri": "https://localhost:8080/"
    },
    "id": "N8OhjZBKboNR",
    "outputId": "c5af1249-1efb-4718-f95b-7a640fa6f2a5"
   },
   "outputs": [
    {
     "data": {
      "text/plain": [
       "(19964, 22635)"
      ]
     },
     "execution_count": 59,
     "metadata": {},
     "output_type": "execute_result"
    }
   ],
   "source": [
    "X.shape"
   ]
  },
  {
   "cell_type": "code",
   "execution_count": 60,
   "metadata": {
    "colab": {
     "base_uri": "https://localhost:8080/"
    },
    "id": "Iy_Z1Xm_bl_6",
    "outputId": "ca8cf3b0-80bb-4f78-84ff-81aac641a74a"
   },
   "outputs": [
    {
     "name": "stdout",
     "output_type": "stream",
     "text": [
      "100 0.7356643293146384\n",
      "200 0.8026893989778731\n",
      "300 0.834870290194574\n",
      "400 0.8551939268139307\n",
      "500 0.8707019153372053\n",
      "600 0.8826795092497388\n",
      "700 0.8924636433759567\n",
      "800 0.9002040236517158\n",
      "900 0.9070336445714342\n",
      "1000 0.9126285738833184\n"
     ]
    }
   ],
   "source": [
    "variance = []\n",
    "for i in [100, 200, 300, 400,500, 600, 700, 800, 900,1000]:\n",
    "    tfidf_temp = TfidfVectorizer(stop_words= my_stopwords, max_features=i)\n",
    "    X_temp = tfidf_temp.fit_transform(docs)\n",
    "    variance.append(X_temp.sum()/X.sum())\n",
    "    print(i, X_temp.sum()/X.sum())"
   ]
  },
  {
   "cell_type": "code",
   "execution_count": 61,
   "metadata": {
    "colab": {
     "base_uri": "https://localhost:8080/",
     "height": 450
    },
    "id": "-27TT1ZKbAIP",
    "outputId": "e3cca049-b590-4d24-f92e-f9045c79b6e7"
   },
   "outputs": [
    {
     "data": {
      "image/png": "[encoded data removed]",
      "text/plain": [
       "<Figure size 432x288 with 1 Axes>"
      ]
     },
     "metadata": {
      "needs_background": "light"
     },
     "output_type": "display_data"
    }
   ],
   "source": [
    "plt.xlabel('Número de palabras')\n",
    "plt.ylabel('Varianza explicada')\n",
    "plt.plot([100, 200, 300, 400,500, 600, 700, 800, 900,1000], variance)\n",
    "plt.axvline(x=800, linestyle='--', color='r') # Línea vertical en 500\n",
    "plt.hlines(y=0.90, xmin=0, xmax=1000, linestyle='--', color='r') # Línea horizontal en 0.95\n",
    "plt.show()"
   ]
  },
  {
   "cell_type": "markdown",
   "metadata": {},
   "source": [
    "Note that, from a set of 22,635 different words in the text corpus, the 800 most significant words are selected. As can be seen in the graph, with this amount of words, approximately 90% of the information is captured in the text present in the database."
   ]
  },
  {
   "cell_type": "markdown",
   "metadata": {
    "id": "DeR4YVrofw9i"
   },
   "source": [
    "## Preparation of text data"
   ]
  },
  {
   "cell_type": "code",
   "execution_count": 62,
   "metadata": {
    "id": "GSjQQqnvf-Lx"
   },
   "outputs": [],
   "source": [
    "# Base solo texto\n",
    "X_texto = base['final'].values\n",
    "y_texto= base['ClasificaTriage'].values"
   ]
  },
  {
   "cell_type": "code",
   "execution_count": 63,
   "metadata": {
    "id": "rTp1IVhugDxS"
   },
   "outputs": [],
   "source": [
    "my_stopwords = stopwords.words('spanish')"
   ]
  },
  {
   "cell_type": "code",
   "execution_count": 64,
   "metadata": {
    "id": "Jy1nHgXafHR4"
   },
   "outputs": [],
   "source": [
    "vectorizer_texto = TfidfVectorizer(stop_words= my_stopwords)\n",
    "tfidf_matrix = vectorizer_texto.fit_transform(X_texto)"
   ]
  },
  {
   "cell_type": "code",
   "execution_count": 65,
   "metadata": {
    "id": "ZHWAL9xogNJ4"
   },
   "outputs": [],
   "source": [
    "def get_most_important_words_index(tfidf_matrix, vectorizer, n=10):\n",
    "    \"\"\"\n",
    "    Devuelve los índices de las n palabras más importantes en la matriz TF-IDF\n",
    "    \"\"\"\n",
    "    # Obtiene el vector de características que representa el vocabulario\n",
    "    feature_names = vectorizer.vocabulary_.keys()\n",
    "    feature_names = list(feature_names)\n",
    "\n",
    "    # Obtiene la puntuación media de TF-IDF para cada palabra en la matriz TF-IDF\n",
    "    mean_tfidf_scores = tfidf_matrix.mean(axis=0)\n",
    "\n",
    "    # Crea una lista de tuplas (índice de la palabra, puntuación TF-IDF media)\n",
    "    word_scores = [(col, mean_tfidf_scores[0, col]) for col in range(len(list(set(tfidf_matrix.nonzero()[1]))))]\n",
    "\n",
    "    # Ordena la lista de palabras por la puntuación TF-IDF media en orden descendente\n",
    "    sorted_word_scores = sorted(word_scores, key=lambda x: x[1], reverse=True)\n",
    "\n",
    "    # Obtiene los índices de las n palabras más importantes\n",
    "    top_word_indices = [x[0] for x in sorted_word_scores[:n]]\n",
    "\n",
    "    return top_word_indices"
   ]
  },
  {
   "cell_type": "code",
   "execution_count": 66,
   "metadata": {
    "id": "YgWOliKogOLd"
   },
   "outputs": [],
   "source": [
    "important_words_index = get_most_important_words_index(tfidf_matrix, vectorizer_texto, n=800)"
   ]
  },
  {
   "cell_type": "code",
   "execution_count": 67,
   "metadata": {
    "colab": {
     "base_uri": "https://localhost:8080/"
    },
    "id": "kKyNU9s8szbD",
    "outputId": "e2a58f11-de7a-4bcf-b7f3-94f694b24c4f"
   },
   "outputs": [
    {
     "data": {
      "text/plain": [
       "(19964, 800)"
      ]
     },
     "execution_count": 67,
     "metadata": {},
     "output_type": "execute_result"
    }
   ],
   "source": [
    "# Selecciona las columnas correspondientes a las palabras más importantes\n",
    "X_texto_reduced = tfidf_matrix[:, important_words_index]\n",
    "X_texto_reduced.shape"
   ]
  },
  {
   "cell_type": "code",
   "execution_count": 68,
   "metadata": {
    "colab": {
     "base_uri": "https://localhost:8080/"
    },
    "id": "xpkDdj2y3nlI",
    "outputId": "c9bf14d8-f020-491e-af31-2608a369e9d5"
   },
   "outputs": [
    {
     "name": "stdout",
     "output_type": "stream",
     "text": [
      "Top 10 most important words:\n",
      "- edeama (0.0734)\n",
      "- seme (0.0605)\n",
      "- madrugdad (0.0378)\n",
      "- aferbol (0.0363)\n",
      "- slqiuidas (0.0363)\n",
      "- bilaterla (0.0338)\n",
      "- residente (0.0294)\n",
      "- 2021tengo (0.0287)\n",
      "- cumpla (0.0271)\n",
      "- tramiento (0.0265)\n"
     ]
    }
   ],
   "source": [
    "# Obtenemos los nombres de las palabras\n",
    "palabras = vectorizer_texto.vocabulary_.keys()\n",
    "\n",
    "# Calculamos el puntaje TF-IDF promedio para cada palabra\n",
    "puntajes = tfidf_matrix.mean(axis=0).tolist()[0]\n",
    "\n",
    "# Creamos una lista de tuplas (palabra, puntaje) y ordenamos por puntaje\n",
    "palabras_puntajes = list(zip(palabras, puntajes))\n",
    "palabras_puntajes.sort(key=lambda x: x[1], reverse=True)\n",
    "\n",
    "print(\"Top 10 most important words:\")\n",
    "for palabra, puntaje in palabras_puntajes[:10]:\n",
    "    print(\"- {} ({:.4f})\".format(palabra, puntaje))\n"
   ]
  },
  {
   "cell_type": "markdown",
   "metadata": {
    "id": "wDuM4aH1c_EU"
   },
   "source": [
    "## Important numerical and categorical variables\n",
    "\n",
    "This selection is done by first identifying which variables have the strongest relationship with the target variable, using the python selectKbest module."
   ]
  },
  {
   "cell_type": "code",
   "execution_count": 69,
   "metadata": {
    "id": "89vvmZDldFRD"
   },
   "outputs": [],
   "source": [
    "base_numerica = base[['Edad', 'Genero',  'ClasificaTriage', 'SedeAtencion' , 'TipoAfiliado',  'TAM','FC', 'FR', 'Temp', 'Oximetria']]"
   ]
  },
  {
   "cell_type": "code",
   "execution_count": 70,
   "metadata": {
    "id": "mYBuzrypdFFj"
   },
   "outputs": [],
   "source": [
    "X_num = pd.get_dummies(base_numerica, drop_first = True).drop('ClasificaTriage', axis = 1)\n",
    "y_num= base_numerica['ClasificaTriage'].values"
   ]
  },
  {
   "cell_type": "code",
   "execution_count": 71,
   "metadata": {
    "id": "JgfGs_f3EzVB"
   },
   "outputs": [],
   "source": [
    "#k_best = SelectKBest(f_classif, k=6)\n",
    "#X_new = k_best.fit_transform(X_num, y_num)\n",
    "#X_num = X_num.iloc[:,list(k_best.get_support())]"
   ]
  },
  {
   "cell_type": "code",
   "execution_count": 72,
   "metadata": {
    "id": "qxxv4QLLh1In"
   },
   "outputs": [],
   "source": [
    "scaler = StandardScaler()\n",
    "scaler.fit(X_num)\n",
    "X_scaled = scaler.transform(X_num)"
   ]
  },
  {
   "cell_type": "code",
   "execution_count": 73,
   "metadata": {
    "colab": {
     "base_uri": "https://localhost:8080/",
     "height": 522
    },
    "id": "dREAlOmbs_Ej",
    "outputId": "8d841bdd-c974-4075-b150-f10dd43c6edb"
   },
   "outputs": [
    {
     "data": {
      "text/html": [
       "<div>\n",
       "<style scoped>\n",
       "    .dataframe tbody tr th:only-of-type {\n",
       "        vertical-align: middle;\n",
       "    }\n",
       "\n",
       "    .dataframe tbody tr th {\n",
       "        vertical-align: top;\n",
       "    }\n",
       "\n",
       "    .dataframe thead th {\n",
       "        text-align: right;\n",
       "    }\n",
       "</style>\n",
       "<table border=\"1\" class=\"dataframe\">\n",
       "  <thead>\n",
       "    <tr style=\"text-align: right;\">\n",
       "      <th></th>\n",
       "      <th>Edad</th>\n",
       "      <th>TAM</th>\n",
       "      <th>FC</th>\n",
       "      <th>FR</th>\n",
       "      <th>Temp</th>\n",
       "      <th>Oximetria</th>\n",
       "      <th>Genero_Masculino</th>\n",
       "      <th>SedeAtencion_VS UUBC CALLE 98</th>\n",
       "      <th>SedeAtencion_VS UUBC LAS AMERICAS</th>\n",
       "      <th>SedeAtencion_VS UUBC SOACHA</th>\n",
       "      <th>TipoAfiliado_Cotizante</th>\n",
       "      <th>TipoAfiliado_Inexistente</th>\n",
       "    </tr>\n",
       "  </thead>\n",
       "  <tbody>\n",
       "    <tr>\n",
       "      <th>0</th>\n",
       "      <td>27</td>\n",
       "      <td>89.33</td>\n",
       "      <td>91</td>\n",
       "      <td>19</td>\n",
       "      <td>360.0</td>\n",
       "      <td>98</td>\n",
       "      <td>0</td>\n",
       "      <td>0</td>\n",
       "      <td>1</td>\n",
       "      <td>0</td>\n",
       "      <td>1</td>\n",
       "      <td>0</td>\n",
       "    </tr>\n",
       "    <tr>\n",
       "      <th>1</th>\n",
       "      <td>22</td>\n",
       "      <td>92.67</td>\n",
       "      <td>100</td>\n",
       "      <td>18</td>\n",
       "      <td>380.0</td>\n",
       "      <td>97</td>\n",
       "      <td>0</td>\n",
       "      <td>0</td>\n",
       "      <td>1</td>\n",
       "      <td>0</td>\n",
       "      <td>1</td>\n",
       "      <td>0</td>\n",
       "    </tr>\n",
       "    <tr>\n",
       "      <th>2</th>\n",
       "      <td>40</td>\n",
       "      <td>88.00</td>\n",
       "      <td>114</td>\n",
       "      <td>21</td>\n",
       "      <td>360.0</td>\n",
       "      <td>96</td>\n",
       "      <td>0</td>\n",
       "      <td>1</td>\n",
       "      <td>0</td>\n",
       "      <td>0</td>\n",
       "      <td>1</td>\n",
       "      <td>0</td>\n",
       "    </tr>\n",
       "    <tr>\n",
       "      <th>3</th>\n",
       "      <td>19</td>\n",
       "      <td>80.00</td>\n",
       "      <td>76</td>\n",
       "      <td>18</td>\n",
       "      <td>360.0</td>\n",
       "      <td>95</td>\n",
       "      <td>0</td>\n",
       "      <td>0</td>\n",
       "      <td>1</td>\n",
       "      <td>0</td>\n",
       "      <td>0</td>\n",
       "      <td>0</td>\n",
       "    </tr>\n",
       "    <tr>\n",
       "      <th>4</th>\n",
       "      <td>26</td>\n",
       "      <td>105.67</td>\n",
       "      <td>111</td>\n",
       "      <td>16</td>\n",
       "      <td>360.0</td>\n",
       "      <td>94</td>\n",
       "      <td>1</td>\n",
       "      <td>0</td>\n",
       "      <td>1</td>\n",
       "      <td>0</td>\n",
       "      <td>1</td>\n",
       "      <td>0</td>\n",
       "    </tr>\n",
       "    <tr>\n",
       "      <th>...</th>\n",
       "      <td>...</td>\n",
       "      <td>...</td>\n",
       "      <td>...</td>\n",
       "      <td>...</td>\n",
       "      <td>...</td>\n",
       "      <td>...</td>\n",
       "      <td>...</td>\n",
       "      <td>...</td>\n",
       "      <td>...</td>\n",
       "      <td>...</td>\n",
       "      <td>...</td>\n",
       "      <td>...</td>\n",
       "    </tr>\n",
       "    <tr>\n",
       "      <th>20737</th>\n",
       "      <td>26</td>\n",
       "      <td>102.33</td>\n",
       "      <td>92</td>\n",
       "      <td>21</td>\n",
       "      <td>360.0</td>\n",
       "      <td>95</td>\n",
       "      <td>0</td>\n",
       "      <td>0</td>\n",
       "      <td>1</td>\n",
       "      <td>0</td>\n",
       "      <td>1</td>\n",
       "      <td>0</td>\n",
       "    </tr>\n",
       "    <tr>\n",
       "      <th>20738</th>\n",
       "      <td>74</td>\n",
       "      <td>114.00</td>\n",
       "      <td>94</td>\n",
       "      <td>16</td>\n",
       "      <td>360.0</td>\n",
       "      <td>95</td>\n",
       "      <td>1</td>\n",
       "      <td>0</td>\n",
       "      <td>0</td>\n",
       "      <td>1</td>\n",
       "      <td>1</td>\n",
       "      <td>0</td>\n",
       "    </tr>\n",
       "    <tr>\n",
       "      <th>20739</th>\n",
       "      <td>1</td>\n",
       "      <td>0.00</td>\n",
       "      <td>148</td>\n",
       "      <td>26</td>\n",
       "      <td>360.0</td>\n",
       "      <td>92</td>\n",
       "      <td>1</td>\n",
       "      <td>1</td>\n",
       "      <td>0</td>\n",
       "      <td>0</td>\n",
       "      <td>0</td>\n",
       "      <td>0</td>\n",
       "    </tr>\n",
       "    <tr>\n",
       "      <th>20740</th>\n",
       "      <td>42</td>\n",
       "      <td>46.33</td>\n",
       "      <td>96</td>\n",
       "      <td>18</td>\n",
       "      <td>360.0</td>\n",
       "      <td>97</td>\n",
       "      <td>1</td>\n",
       "      <td>1</td>\n",
       "      <td>0</td>\n",
       "      <td>0</td>\n",
       "      <td>1</td>\n",
       "      <td>0</td>\n",
       "    </tr>\n",
       "    <tr>\n",
       "      <th>20741</th>\n",
       "      <td>32</td>\n",
       "      <td>96.00</td>\n",
       "      <td>66</td>\n",
       "      <td>20</td>\n",
       "      <td>360.0</td>\n",
       "      <td>97</td>\n",
       "      <td>0</td>\n",
       "      <td>1</td>\n",
       "      <td>0</td>\n",
       "      <td>0</td>\n",
       "      <td>1</td>\n",
       "      <td>0</td>\n",
       "    </tr>\n",
       "  </tbody>\n",
       "</table>\n",
       "<p>19964 rows × 12 columns</p>\n",
       "</div>"
      ],
      "text/plain": [
       "       Edad     TAM   FC  FR   Temp  Oximetria  Genero_Masculino  \\\n",
       "0        27   89.33   91  19  360.0         98                 0   \n",
       "1        22   92.67  100  18  380.0         97                 0   \n",
       "2        40   88.00  114  21  360.0         96                 0   \n",
       "3        19   80.00   76  18  360.0         95                 0   \n",
       "4        26  105.67  111  16  360.0         94                 1   \n",
       "...     ...     ...  ...  ..    ...        ...               ...   \n",
       "20737    26  102.33   92  21  360.0         95                 0   \n",
       "20738    74  114.00   94  16  360.0         95                 1   \n",
       "20739     1    0.00  148  26  360.0         92                 1   \n",
       "20740    42   46.33   96  18  360.0         97                 1   \n",
       "20741    32   96.00   66  20  360.0         97                 0   \n",
       "\n",
       "       SedeAtencion_VS UUBC CALLE 98  SedeAtencion_VS UUBC LAS AMERICAS  \\\n",
       "0                                  0                                  1   \n",
       "1                                  0                                  1   \n",
       "2                                  1                                  0   \n",
       "3                                  0                                  1   \n",
       "4                                  0                                  1   \n",
       "...                              ...                                ...   \n",
       "20737                              0                                  1   \n",
       "20738                              0                                  0   \n",
       "20739                              1                                  0   \n",
       "20740                              1                                  0   \n",
       "20741                              1                                  0   \n",
       "\n",
       "       SedeAtencion_VS UUBC SOACHA  TipoAfiliado_Cotizante  \\\n",
       "0                                0                       1   \n",
       "1                                0                       1   \n",
       "2                                0                       1   \n",
       "3                                0                       0   \n",
       "4                                0                       1   \n",
       "...                            ...                     ...   \n",
       "20737                            0                       1   \n",
       "20738                            1                       1   \n",
       "20739                            0                       0   \n",
       "20740                            0                       1   \n",
       "20741                            0                       1   \n",
       "\n",
       "       TipoAfiliado_Inexistente  \n",
       "0                             0  \n",
       "1                             0  \n",
       "2                             0  \n",
       "3                             0  \n",
       "4                             0  \n",
       "...                         ...  \n",
       "20737                         0  \n",
       "20738                         0  \n",
       "20739                         0  \n",
       "20740                         0  \n",
       "20741                         0  \n",
       "\n",
       "[19964 rows x 12 columns]"
      ]
     },
     "execution_count": 73,
     "metadata": {},
     "output_type": "execute_result"
    }
   ],
   "source": [
    "X_num"
   ]
  },
  {
   "cell_type": "code",
   "execution_count": 74,
   "metadata": {
    "id": "JFDLeQbhyPqp"
   },
   "outputs": [],
   "source": [
    "def importancia_variables_modelo(df, y, modelo):\n",
    "\n",
    "    scaler = StandardScaler()\n",
    "    scaler.fit(df)\n",
    "    X_scaled = scaler.transform(df)\n",
    "\n",
    "    X_num_train, X_num_test, y_num_train, y_num_test = train_test_split(X_scaled, y_num, test_size=0.2, random_state=42)\n",
    "\n",
    "    var = []\n",
    "\n",
    "    for i in range(1,df.shape[1]):\n",
    "      selector = SelectKBest(f_classif, k=i)\n",
    "      X_train_selected = selector.fit_transform(X_num_train, y_num_train)\n",
    "\n",
    "      model = modelo\n",
    "      modelo.fit(X_train_selected, y_num_train)\n",
    "\n",
    "      selected_features_score = modelo.score(X_train_selected, y_num_train)\n",
    "\n",
    "      model_all_features = modelo\n",
    "      model_all_features.fit(X_num_train, y_num_train)\n",
    "\n",
    "      all_features_score = model_all_features.score(X_num_train, y_num_train)\n",
    "\n",
    "      var.append(selected_features_score/all_features_score)\n",
    "\n",
    "      #print(f\"La variabilidad explicada por las {i:.2f} características seleccionadas es: {(selected_features_score/all_features_score):.2f} %\")\n",
    "\n",
    "    return var"
   ]
  },
  {
   "cell_type": "code",
   "execution_count": 75,
   "metadata": {
    "id": "db5xuX9jy5QU"
   },
   "outputs": [],
   "source": [
    "var_random_forest = importancia_variables_modelo(X_num, y_num, RandomForestClassifier())"
   ]
  },
  {
   "cell_type": "code",
   "execution_count": 76,
   "metadata": {
    "id": "xvrldcoX0Gln"
   },
   "outputs": [],
   "source": [
    "var_logistic_reg = importancia_variables_modelo(X_num, y_num, LogisticRegression())"
   ]
  },
  {
   "cell_type": "code",
   "execution_count": 77,
   "metadata": {
    "id": "OIHEw7nK0Ugd"
   },
   "outputs": [],
   "source": [
    "var_red = importancia_variables_modelo(X_num, y_num, MLPClassifier())"
   ]
  },
  {
   "cell_type": "markdown",
   "metadata": {},
   "source": [
    "### Remark \n",
    "\n",
    "On the other hand, in order to select the number of variables to select, the analysis of the performance of base models such as logistic regression and random forest trained with all the variables is performed compared to performance if we train it only with a subset of the variables as observed in the graph. In conclusion, we see that with 6 variables we achieve 90% performance in the models compared to training with all the variables."
   ]
  },
  {
   "cell_type": "code",
   "execution_count": 78,
   "metadata": {
    "colab": {
     "base_uri": "https://localhost:8080/",
     "height": 472
    },
    "id": "5Ddi2evf2D_h",
    "outputId": "47be7892-3324-4eaf-b8fd-1d96e050784d"
   },
   "outputs": [
    {
     "data": {
      "image/png": "[encoded data removed]",
      "text/plain": [
       "<Figure size 432x288 with 1 Axes>"
      ]
     },
     "metadata": {
      "needs_background": "light"
     },
     "output_type": "display_data"
    }
   ],
   "source": [
    "x = range(1, X_num.shape[1])\n",
    "plt.plot(x, var_red, 'bo-', label='VAR Red')\n",
    "plt.plot(x, var_logistic_reg, 'go-', label='VAR Logistic Regression')\n",
    "plt.plot(x, var_random_forest, 'ro-', label='VAR Random Forest')\n",
    "\n",
    "\n",
    "\n",
    "# Agregar leyenda y títulos\n",
    "plt.legend()\n",
    "\n",
    "# Línea punteada en x = 6\n",
    "plt.axvline(x=6, color='k', linestyle='--', label='x = 6')\n",
    "\n",
    "# Línea punteada en y = 0.9\n",
    "plt.axhline(y=0.9, color='k', linestyle='--', label='y = 0.9')\n",
    "\n",
    "plt.title('Comparación de Variables')\n",
    "plt.xlabel('Número de Variables')\n",
    "plt.ylabel('Valor')\n",
    "\n",
    "# Mostrar la gráfica\n",
    "plt.show()"
   ]
  },
  {
   "cell_type": "markdown",
   "metadata": {
    "id": "RvpW9JRngiCZ"
   },
   "source": [
    "## Preparation of numerical data"
   ]
  },
  {
   "cell_type": "code",
   "execution_count": 79,
   "metadata": {
    "id": "ogZ3RWTJghPA"
   },
   "outputs": [],
   "source": [
    "X_num = pd.get_dummies(base_numerica, drop_first = True).drop('ClasificaTriage', axis = 1)\n",
    "\n",
    "k_best = SelectKBest(f_classif, k=6)\n",
    "X_new = k_best.fit_transform(X_num, y_num)\n",
    "X_num = X_num.iloc[:,list(k_best.get_support())]"
   ]
  },
  {
   "cell_type": "code",
   "execution_count": 80,
   "metadata": {
    "colab": {
     "base_uri": "https://localhost:8080/"
    },
    "id": "eZilfoWg8IZS",
    "outputId": "a2a70ae4-989a-4685-94f9-2c154b47f91e"
   },
   "outputs": [
    {
     "data": {
      "text/plain": [
       "(19964, 6)"
      ]
     },
     "execution_count": 80,
     "metadata": {},
     "output_type": "execute_result"
    }
   ],
   "source": [
    "X_num.shape"
   ]
  },
  {
   "cell_type": "code",
   "execution_count": 81,
   "metadata": {
    "id": "oJyROixZg47g"
   },
   "outputs": [],
   "source": [
    "#X_num = X_num[:,k_best.get_support()]"
   ]
  },
  {
   "cell_type": "code",
   "execution_count": 82,
   "metadata": {
    "id": "sdf-gsFsT6z6"
   },
   "outputs": [],
   "source": [
    "mask = k_best.get_support()"
   ]
  },
  {
   "cell_type": "code",
   "execution_count": 83,
   "metadata": {
    "id": "acooXFDchZn3"
   },
   "outputs": [],
   "source": [
    "base_num = pd.get_dummies(base_numerica, drop_first = True).drop('ClasificaTriage', axis = 1)"
   ]
  },
  {
   "cell_type": "code",
   "execution_count": 84,
   "metadata": {
    "id": "GeTw1FH2hR7q"
   },
   "outputs": [],
   "source": [
    "fvalues, pvalues = f_classif(base_num.iloc[:, mask], y_num)"
   ]
  },
  {
   "cell_type": "markdown",
   "metadata": {},
   "source": [
    "### Remark \n",
    "\n",
    "For the selection of the most important numerical variables, the relationship of each variable with the objective variable is measured through correlation, resulting in the 6 most important variables in descending order:"
   ]
  },
  {
   "cell_type": "code",
   "execution_count": 85,
   "metadata": {
    "colab": {
     "base_uri": "https://localhost:8080/",
     "height": 238
    },
    "id": "uVFsfJ3IhdFM",
    "outputId": "a10b8eb2-9d5f-4110-e1e1-272fc6680920"
   },
   "outputs": [
    {
     "data": {
      "text/html": [
       "<div>\n",
       "<style scoped>\n",
       "    .dataframe tbody tr th:only-of-type {\n",
       "        vertical-align: middle;\n",
       "    }\n",
       "\n",
       "    .dataframe tbody tr th {\n",
       "        vertical-align: top;\n",
       "    }\n",
       "\n",
       "    .dataframe thead th {\n",
       "        text-align: right;\n",
       "    }\n",
       "</style>\n",
       "<table border=\"1\" class=\"dataframe\">\n",
       "  <thead>\n",
       "    <tr style=\"text-align: right;\">\n",
       "      <th></th>\n",
       "      <th>Característica</th>\n",
       "      <th>F</th>\n",
       "      <th>p-valor</th>\n",
       "    </tr>\n",
       "  </thead>\n",
       "  <tbody>\n",
       "    <tr>\n",
       "      <th>2</th>\n",
       "      <td>FR</td>\n",
       "      <td>83.485833</td>\n",
       "      <td>1.128689e-53</td>\n",
       "    </tr>\n",
       "    <tr>\n",
       "      <th>3</th>\n",
       "      <td>Genero_Masculino</td>\n",
       "      <td>112.504864</td>\n",
       "      <td>3.062917e-72</td>\n",
       "    </tr>\n",
       "    <tr>\n",
       "      <th>4</th>\n",
       "      <td>SedeAtencion_VS UUBC LAS AMERICAS</td>\n",
       "      <td>137.392952</td>\n",
       "      <td>4.113533e-88</td>\n",
       "    </tr>\n",
       "    <tr>\n",
       "      <th>0</th>\n",
       "      <td>TAM</td>\n",
       "      <td>295.245890</td>\n",
       "      <td>1.501386e-187</td>\n",
       "    </tr>\n",
       "    <tr>\n",
       "      <th>5</th>\n",
       "      <td>TipoAfiliado_Cotizante</td>\n",
       "      <td>493.382263</td>\n",
       "      <td>2.636561e-309</td>\n",
       "    </tr>\n",
       "    <tr>\n",
       "      <th>1</th>\n",
       "      <td>FC</td>\n",
       "      <td>584.480457</td>\n",
       "      <td>0.000000e+00</td>\n",
       "    </tr>\n",
       "  </tbody>\n",
       "</table>\n",
       "</div>"
      ],
      "text/plain": [
       "                      Característica           F        p-valor\n",
       "2                                 FR   83.485833   1.128689e-53\n",
       "3                   Genero_Masculino  112.504864   3.062917e-72\n",
       "4  SedeAtencion_VS UUBC LAS AMERICAS  137.392952   4.113533e-88\n",
       "0                                TAM  295.245890  1.501386e-187\n",
       "5             TipoAfiliado_Cotizante  493.382263  2.636561e-309\n",
       "1                                 FC  584.480457   0.000000e+00"
      ]
     },
     "execution_count": 85,
     "metadata": {},
     "output_type": "execute_result"
    }
   ],
   "source": [
    "df = pd.DataFrame({'Característica': base_num.columns[mask], 'F': fvalues, 'p-valor': pvalues})\n",
    "df.sort_values('F')"
   ]
  },
  {
   "cell_type": "markdown",
   "metadata": {
    "id": "WlBH20hLbzNz"
   },
   "source": [
    "## Development modeling phase\n",
    "\n",
    "In this notebook a complete analysis of the training of three algorithms to solve a multiclass problem is presented.\n",
    "\n",
    "The first phase is the training of the algorithms using only the numerical data, using the grid search methodology to search for the best hyperparameters and their corresponding evaluation. The metrics obtained for each model are presented.\n",
    "\n",
    "The second phase repeats the previous process, but including the text data. It shows how the models improve by incorporating this additional information and the results are compared with the previous phase.\n",
    "\n",
    "In the third phase, a joint training is carried out with the numerical and text data. The grid search methodology is used again and the resulting models are evaluated. In addition, the most important features are extracted and the relevant results of the selected model are presented.\n",
    "\n",
    "In summary, this part of the project provides a complete vision of the process of training several algorithms to solve a multiclass problem, using different methodologies and data. The metrics and results obtained in each phase are presented, which allows comparing the different models and determining which is the most appropriate for the problem.\n",
    "\n",
    "\n",
    "\n"
   ]
  },
  {
   "cell_type": "markdown",
   "metadata": {
    "id": "RLt_w-QCwbC9"
   },
   "source": [
    "# Numerical modeling\n",
    "## Definition of the metric to optimize"
   ]
  },
  {
   "cell_type": "code",
   "execution_count": 86,
   "metadata": {
    "id": "O1WmIH6EBXyZ"
   },
   "outputs": [],
   "source": [
    "def evaluate_model(model,x_test, y_test):\n",
    "    y_pred = model.predict(x_test)\n",
    "    y_pred = pd.DataFrame(y_pred)\n",
    "\n",
    "    clsReport = classification_report( y_test,y_pred )\n",
    "    return clsReport"
   ]
  },
  {
   "cell_type": "code",
   "execution_count": 87,
   "metadata": {
    "id": "EN3NQnF48Ue3"
   },
   "outputs": [],
   "source": [
    "X_num_train, X_num_test, y_num_train, y_num_test = train_test_split(X_scaled, y_num, test_size=0.2, random_state=42)"
   ]
  },
  {
   "cell_type": "code",
   "execution_count": 88,
   "metadata": {
    "id": "QUGB5zdRw5dB"
   },
   "outputs": [],
   "source": [
    "scorer = make_scorer(f1_score, average='macro')"
   ]
  },
  {
   "cell_type": "markdown",
   "metadata": {
    "id": "OD8XXg1_xXnw"
   },
   "source": [
    "## Logistic Regression"
   ]
  },
  {
   "cell_type": "code",
   "execution_count": 89,
   "metadata": {
    "colab": {
     "base_uri": "https://localhost:8080/",
     "height": 152
    },
    "id": "3SEhAUcUAHnr",
    "outputId": "df1fb57c-ca52-4476-bf27-2ae7bcfcc104"
   },
   "outputs": [
    {
     "data": {
      "text/plain": [
       "GridSearchCV(cv=3,\n",
       "             estimator=Pipeline(steps=[('scaler', StandardScaler()),\n",
       "                                       ('classifier_lr',\n",
       "                                        LogisticRegression())]),\n",
       "             n_jobs=-1,\n",
       "             param_grid={'classifier_lr__C': [0.1, 1.0],\n",
       "                         'scaler__with_mean': [True, False]},\n",
       "             scoring=make_scorer(f1_score, average=macro))"
      ]
     },
     "execution_count": 89,
     "metadata": {},
     "output_type": "execute_result"
    }
   ],
   "source": [
    "pipeline = Pipeline([\n",
    "    ('scaler', StandardScaler()),  # Transformador: StandardScaler\n",
    "    ('classifier_lr', LogisticRegression())\n",
    "])\n",
    "\n",
    "parameters = {\n",
    "    'scaler__with_mean': [True, False],\n",
    "    'classifier_lr__C': [0.1, 1.0]\n",
    "}\n",
    "\n",
    "cv_reg = GridSearchCV(pipeline, param_grid=parameters, cv= 3, n_jobs = -1, scoring = scorer )\n",
    "\n",
    "cv_reg.fit(X_num_train, y_num_train)"
   ]
  },
  {
   "cell_type": "code",
   "execution_count": 90,
   "metadata": {
    "colab": {
     "base_uri": "https://localhost:8080/"
    },
    "id": "mxXHMVUYB01T",
    "outputId": "f07fb4f1-b346-42be-df90-469a6603d67a"
   },
   "outputs": [
    {
     "name": "stdout",
     "output_type": "stream",
     "text": [
      "              precision    recall  f1-score   support\n",
      "\n",
      "           1       0.61      0.17      0.26       462\n",
      "           2       0.47      0.46      0.46      1249\n",
      "           3       0.36      0.46      0.40      1256\n",
      "           4       0.39      0.40      0.39      1026\n",
      "\n",
      "    accuracy                           0.41      3993\n",
      "   macro avg       0.46      0.37      0.38      3993\n",
      "weighted avg       0.43      0.41      0.40      3993\n",
      "\n"
     ]
    }
   ],
   "source": [
    "print(evaluate_model(cv_reg,X_num_test, y_num_test))"
   ]
  },
  {
   "cell_type": "markdown",
   "metadata": {
    "id": "KCxqLrHXxqB9"
   },
   "source": [
    "## Random Forest"
   ]
  },
  {
   "cell_type": "code",
   "execution_count": 91,
   "metadata": {
    "colab": {
     "base_uri": "https://localhost:8080/",
     "height": 152
    },
    "id": "Qrg4c8v7C13o",
    "outputId": "6fba7e40-7e1f-44db-f420-a199c3555a33"
   },
   "outputs": [
    {
     "data": {
      "text/plain": [
       "GridSearchCV(cv=3,\n",
       "             estimator=Pipeline(steps=[('scaler', StandardScaler()),\n",
       "                                       ('classifier_rf',\n",
       "                                        RandomForestClassifier())]),\n",
       "             n_jobs=-1,\n",
       "             param_grid={'classifier_rf__n_estimators': [50, 100],\n",
       "                         'scaler__with_mean': [True, False]},\n",
       "             scoring=make_scorer(f1_score, average=macro))"
      ]
     },
     "execution_count": 91,
     "metadata": {},
     "output_type": "execute_result"
    }
   ],
   "source": [
    "pipeline = Pipeline([\n",
    "    ('scaler', StandardScaler()),  # Transformador: StandardScaler\n",
    "    ('classifier_rf', RandomForestClassifier())\n",
    "])\n",
    "\n",
    "parameters = {\n",
    "    'scaler__with_mean': [True, False],\n",
    "    'classifier_rf__n_estimators': [50,100]\n",
    "}\n",
    "\n",
    "cv_rf = GridSearchCV(pipeline, param_grid=parameters, cv= 3, n_jobs = -1, scoring = scorer )\n",
    "\n",
    "cv_rf.fit(X_num_train, y_num_train)"
   ]
  },
  {
   "cell_type": "code",
   "execution_count": 92,
   "metadata": {
    "colab": {
     "base_uri": "https://localhost:8080/"
    },
    "id": "u6_XgZKvDIAQ",
    "outputId": "f73b37d1-e9c5-4601-f431-914d151a3f19"
   },
   "outputs": [
    {
     "name": "stdout",
     "output_type": "stream",
     "text": [
      "              precision    recall  f1-score   support\n",
      "\n",
      "           1       0.56      0.31      0.40       462\n",
      "           2       0.49      0.46      0.47      1249\n",
      "           3       0.40      0.47      0.43      1256\n",
      "           4       0.41      0.44      0.42      1026\n",
      "\n",
      "    accuracy                           0.44      3993\n",
      "   macro avg       0.47      0.42      0.43      3993\n",
      "weighted avg       0.45      0.44      0.44      3993\n",
      "\n"
     ]
    }
   ],
   "source": [
    "print(evaluate_model(cv_rf,X_num_test, y_num_test))"
   ]
  },
  {
   "cell_type": "markdown",
   "metadata": {
    "id": "5C405zO9zDye"
   },
   "source": [
    "## Neuronal Network"
   ]
  },
  {
   "cell_type": "code",
   "execution_count": 93,
   "metadata": {
    "colab": {
     "base_uri": "https://localhost:8080/",
     "height": 152
    },
    "id": "F5oOAfxzDgmz",
    "outputId": "79b65802-499d-4ce6-ecc0-69f4dcc606a7"
   },
   "outputs": [
    {
     "data": {
      "text/plain": [
       "GridSearchCV(cv=3,\n",
       "             estimator=Pipeline(steps=[('scaler', StandardScaler()),\n",
       "                                       ('classifier_rn', MLPClassifier())]),\n",
       "             n_jobs=-1,\n",
       "             param_grid={'classifier_rn__hidden_layer_sizes': [(50,), (100,)],\n",
       "                         'scaler__with_mean': [True, False]},\n",
       "             scoring=make_scorer(f1_score, average=macro))"
      ]
     },
     "execution_count": 93,
     "metadata": {},
     "output_type": "execute_result"
    }
   ],
   "source": [
    "pipeline = Pipeline([\n",
    "    ('scaler', StandardScaler()),  # Transformador: StandardScaler\n",
    "    ('classifier_rn', MLPClassifier())\n",
    "])\n",
    "\n",
    "parameters = {\n",
    "    'scaler__with_mean': [True, False],\n",
    "    'classifier_rn__hidden_layer_sizes': [(50,), (100,)]\n",
    "}\n",
    "\n",
    "cv_rn = GridSearchCV(pipeline, param_grid=parameters, cv= 3, n_jobs = -1, scoring = scorer )\n",
    "\n",
    "cv_rn.fit(X_num_train, y_num_train)"
   ]
  },
  {
   "cell_type": "code",
   "execution_count": 94,
   "metadata": {
    "colab": {
     "base_uri": "https://localhost:8080/"
    },
    "id": "iKmbphqpEx91",
    "outputId": "3bf9a02d-dea4-47c0-d84f-0ce405190350"
   },
   "outputs": [
    {
     "name": "stdout",
     "output_type": "stream",
     "text": [
      "              precision    recall  f1-score   support\n",
      "\n",
      "           1       0.59      0.30      0.40       462\n",
      "           2       0.52      0.48      0.50      1249\n",
      "           3       0.41      0.36      0.38      1256\n",
      "           4       0.39      0.57      0.46      1026\n",
      "\n",
      "    accuracy                           0.44      3993\n",
      "   macro avg       0.48      0.43      0.44      3993\n",
      "weighted avg       0.46      0.44      0.44      3993\n",
      "\n"
     ]
    }
   ],
   "source": [
    "print(evaluate_model(cv_rn,X_num_test, y_num_test))"
   ]
  },
  {
   "cell_type": "markdown",
   "metadata": {},
   "source": [
    "### Remark\n",
    "In the numerical phase, the best model was a neural network. Although this model was able to adequately classify some categories, it is observed that the general metrics are moderate, indicating the need for improvements.\n",
    "\n"
   ]
  },
  {
   "cell_type": "markdown",
   "metadata": {
    "id": "jVB787gsKbFb"
   },
   "source": [
    "# Text shaping\n",
    "## Logistic regression"
   ]
  },
  {
   "cell_type": "code",
   "execution_count": 95,
   "metadata": {
    "id": "pDKF4Ti1OAWk"
   },
   "outputs": [],
   "source": [
    "def tokenize(text):\n",
    "    text = text.lower()\n",
    "    text = re.sub(r'[^\\w\\s]', '', text)\n",
    "    tokens = text.split()\n",
    "    return tokens"
   ]
  },
  {
   "cell_type": "code",
   "execution_count": 96,
   "metadata": {
    "id": "9oGCucF6KVay"
   },
   "outputs": [],
   "source": [
    "X_texto = base['Anotacion TRIAGE Consulta'].values\n",
    "y_texto = base['ClasificaTriage'].values"
   ]
  },
  {
   "cell_type": "code",
   "execution_count": 97,
   "metadata": {
    "id": "9ne2sE2h8dth"
   },
   "outputs": [],
   "source": [
    "X_text_train, X_text_test, y_text_train, y_text_test = train_test_split(X_texto, y_texto, test_size=0.2, random_state=42)"
   ]
  },
  {
   "cell_type": "code",
   "execution_count": 98,
   "metadata": {
    "colab": {
     "base_uri": "https://localhost:8080/",
     "height": 152
    },
    "id": "DFHi9Vd4J-yM",
    "outputId": "6c182ba6-3ab2-4c8a-be28-23b9b957b8fc"
   },
   "outputs": [
    {
     "data": {
      "text/plain": [
       "GridSearchCV(cv=3,\n",
       "             estimator=Pipeline(steps=[('tfidf',\n",
       "                                        TfidfVectorizer(max_features=800,\n",
       "                                                        stop_words=['de', 'la',\n",
       "                                                                    'que', 'el',\n",
       "                                                                    'en', 'y',\n",
       "                                                                    'a', 'los',\n",
       "                                                                    'del', 'se',\n",
       "                                                                    'las',\n",
       "                                                                    'por', 'un',\n",
       "                                                                    'para',\n",
       "                                                                    'con', 'no',\n",
       "                                                                    'una', 'su',\n",
       "                                                                    'al', 'lo',\n",
       "                                                                    'como',\n",
       "                                                                    'más',\n",
       "                                                                    'pero',\n",
       "                                                                    'sus', 'le',\n",
       "                                                                    'ya', 'o',\n",
       "                                                                    'este',\n",
       "                                                                    'sí',\n",
       "                                                                    'porque', ...],\n",
       "                                                        tokenizer=<function tokenize at 0x000001B501177C10>)),\n",
       "                                       ('classifier', LogisticRegression())]),\n",
       "             n_jobs=-1,\n",
       "             param_grid={'classifier__C': [0.1, 1.0],\n",
       "                         'tfidf__use_idf': (True, False)},\n",
       "             scoring=make_scorer(f1_score, average=macro))"
      ]
     },
     "execution_count": 98,
     "metadata": {},
     "output_type": "execute_result"
    }
   ],
   "source": [
    "pipeline = Pipeline([\n",
    "    ('tfidf', TfidfVectorizer(tokenizer=tokenize, stop_words = my_stopwords, max_features= 800)),\n",
    "    ('classifier', LogisticRegression())\n",
    "])\n",
    "\n",
    "parameters = {\n",
    "    'tfidf__use_idf': (True, False),\n",
    "    'classifier__C': [0.1, 1.0]\n",
    "}\n",
    "\n",
    "cv_reg_text = GridSearchCV(pipeline, param_grid=parameters, cv= 3, n_jobs = -1, scoring = scorer )\n",
    "\n",
    "cv_reg_text.fit(X_text_train, y_text_train)"
   ]
  },
  {
   "cell_type": "code",
   "execution_count": 99,
   "metadata": {
    "colab": {
     "base_uri": "https://localhost:8080/"
    },
    "id": "JE-uq-nhOqH0",
    "outputId": "40d48a97-0f30-4061-9cea-f061a477e624"
   },
   "outputs": [
    {
     "name": "stdout",
     "output_type": "stream",
     "text": [
      "              precision    recall  f1-score   support\n",
      "\n",
      "           1       0.72      0.48      0.57       462\n",
      "           2       0.63      0.66      0.64      1249\n",
      "           3       0.56      0.63      0.60      1256\n",
      "           4       0.60      0.57      0.58      1026\n",
      "\n",
      "    accuracy                           0.61      3993\n",
      "   macro avg       0.63      0.58      0.60      3993\n",
      "weighted avg       0.61      0.61      0.61      3993\n",
      "\n"
     ]
    }
   ],
   "source": [
    "print(evaluate_model(cv_reg_text,X_text_test, y_text_test))"
   ]
  },
  {
   "cell_type": "markdown",
   "metadata": {
    "id": "5nY_aKE_7bfP"
   },
   "source": [
    "## Random Forest"
   ]
  },
  {
   "cell_type": "code",
   "execution_count": 100,
   "metadata": {
    "colab": {
     "base_uri": "https://localhost:8080/",
     "height": 152
    },
    "id": "mgJFHWRTPGt6",
    "outputId": "4d44f370-6aa2-4bc6-aeee-7a7db02223b5"
   },
   "outputs": [
    {
     "data": {
      "text/plain": [
       "GridSearchCV(cv=3,\n",
       "             estimator=Pipeline(steps=[('tfidf',\n",
       "                                        TfidfVectorizer(max_features=800,\n",
       "                                                        stop_words=['de', 'la',\n",
       "                                                                    'que', 'el',\n",
       "                                                                    'en', 'y',\n",
       "                                                                    'a', 'los',\n",
       "                                                                    'del', 'se',\n",
       "                                                                    'las',\n",
       "                                                                    'por', 'un',\n",
       "                                                                    'para',\n",
       "                                                                    'con', 'no',\n",
       "                                                                    'una', 'su',\n",
       "                                                                    'al', 'lo',\n",
       "                                                                    'como',\n",
       "                                                                    'más',\n",
       "                                                                    'pero',\n",
       "                                                                    'sus', 'le',\n",
       "                                                                    'ya', 'o',\n",
       "                                                                    'este',\n",
       "                                                                    'sí',\n",
       "                                                                    'porque', ...],\n",
       "                                                        tokenizer=<function tokenize at 0x000001B501177C10>)),\n",
       "                                       ('classifier',\n",
       "                                        RandomForestClassifier())]),\n",
       "             n_jobs=-1,\n",
       "             param_grid={'classifier__n_estimators': [50, 100],\n",
       "                         'tfidf__use_idf': (True, False)},\n",
       "             scoring=make_scorer(f1_score, average=macro))"
      ]
     },
     "execution_count": 100,
     "metadata": {},
     "output_type": "execute_result"
    }
   ],
   "source": [
    "pipeline = Pipeline([\n",
    "    ('tfidf', TfidfVectorizer(tokenizer=tokenize, stop_words = my_stopwords, max_features= 800)),\n",
    "    ('classifier', RandomForestClassifier())\n",
    "])\n",
    "\n",
    "parameters = {\n",
    "    'tfidf__use_idf': (True, False),\n",
    "    'classifier__n_estimators': [50, 100]\n",
    "}\n",
    "\n",
    "cv_rf_text = GridSearchCV(pipeline, param_grid=parameters, cv= 3, n_jobs = -1, scoring = scorer )\n",
    "\n",
    "cv_rf_text.fit(X_text_train, y_text_train)"
   ]
  },
  {
   "cell_type": "code",
   "execution_count": 101,
   "metadata": {
    "colab": {
     "base_uri": "https://localhost:8080/"
    },
    "id": "6Pb949H1PWRd",
    "outputId": "e11ee77b-1474-497a-8028-779950750561"
   },
   "outputs": [
    {
     "name": "stdout",
     "output_type": "stream",
     "text": [
      "              precision    recall  f1-score   support\n",
      "\n",
      "           1       0.77      0.45      0.56       462\n",
      "           2       0.60      0.64      0.62      1249\n",
      "           3       0.54      0.62      0.57      1256\n",
      "           4       0.59      0.54      0.56      1026\n",
      "\n",
      "    accuracy                           0.59      3993\n",
      "   macro avg       0.62      0.56      0.58      3993\n",
      "weighted avg       0.60      0.59      0.59      3993\n",
      "\n"
     ]
    }
   ],
   "source": [
    "print(evaluate_model(cv_rf_text,X_text_test, y_text_test))"
   ]
  },
  {
   "cell_type": "markdown",
   "metadata": {
    "id": "TXXFrUVr9K5X"
   },
   "source": [
    "## Neuronal network"
   ]
  },
  {
   "cell_type": "code",
   "execution_count": 102,
   "metadata": {
    "colab": {
     "base_uri": "https://localhost:8080/",
     "height": 152
    },
    "id": "zv1N1ZtnQHJ5",
    "outputId": "167a742a-f143-42c9-a1ad-9632803bfd2e"
   },
   "outputs": [
    {
     "data": {
      "text/plain": [
       "GridSearchCV(cv=3,\n",
       "             estimator=Pipeline(steps=[('tfidf',\n",
       "                                        TfidfVectorizer(max_features=800,\n",
       "                                                        stop_words=['de', 'la',\n",
       "                                                                    'que', 'el',\n",
       "                                                                    'en', 'y',\n",
       "                                                                    'a', 'los',\n",
       "                                                                    'del', 'se',\n",
       "                                                                    'las',\n",
       "                                                                    'por', 'un',\n",
       "                                                                    'para',\n",
       "                                                                    'con', 'no',\n",
       "                                                                    'una', 'su',\n",
       "                                                                    'al', 'lo',\n",
       "                                                                    'como',\n",
       "                                                                    'más',\n",
       "                                                                    'pero',\n",
       "                                                                    'sus', 'le',\n",
       "                                                                    'ya', 'o',\n",
       "                                                                    'este',\n",
       "                                                                    'sí',\n",
       "                                                                    'porque', ...],\n",
       "                                                        tokenizer=<function tokenize at 0x000001B501177C10>)),\n",
       "                                       ('classifier', MLPClassifier())]),\n",
       "             n_jobs=-1,\n",
       "             param_grid={'classifier__hidden_layer_sizes': [(50,), (100,)],\n",
       "                         'tfidf__use_idf': (True, False)},\n",
       "             scoring=make_scorer(f1_score, average=macro))"
      ]
     },
     "execution_count": 102,
     "metadata": {},
     "output_type": "execute_result"
    }
   ],
   "source": [
    "pipeline = Pipeline([\n",
    "    ('tfidf', TfidfVectorizer(tokenizer=tokenize, stop_words = my_stopwords, max_features= 800)),\n",
    "    ('classifier', MLPClassifier())\n",
    "])\n",
    "\n",
    "parameters = {\n",
    "    'tfidf__use_idf': (True, False),\n",
    "    'classifier__hidden_layer_sizes': [(50,), (100,)]\n",
    "}\n",
    "\n",
    "cv_rn_text = GridSearchCV(pipeline, param_grid=parameters, cv= 3, n_jobs = -1, scoring = scorer )\n",
    "\n",
    "cv_rn_text.fit(X_text_train, y_text_train)"
   ]
  },
  {
   "cell_type": "code",
   "execution_count": 103,
   "metadata": {
    "colab": {
     "base_uri": "https://localhost:8080/"
    },
    "id": "0R_8x_VCR2jC",
    "outputId": "de2e0510-483e-4b1a-ca8e-383aa7f7a22a"
   },
   "outputs": [
    {
     "name": "stdout",
     "output_type": "stream",
     "text": [
      "              precision    recall  f1-score   support\n",
      "\n",
      "           1       0.55      0.52      0.53       462\n",
      "           2       0.60      0.59      0.60      1249\n",
      "           3       0.54      0.55      0.55      1256\n",
      "           4       0.57      0.57      0.57      1026\n",
      "\n",
      "    accuracy                           0.56      3993\n",
      "   macro avg       0.56      0.56      0.56      3993\n",
      "weighted avg       0.57      0.56      0.57      3993\n",
      "\n"
     ]
    }
   ],
   "source": [
    "print(evaluate_model(cv_rn_text,X_text_test, y_text_test))"
   ]
  },
  {
   "cell_type": "markdown",
   "metadata": {},
   "source": [
    "### Remark \n",
    "\n",
    "In the text phase, logistic regression stood out as the best model, showing better performance compared to the numerical phase.\n",
    "These metrics show a significant improvement in classification ability, especially in terms of accuracy and f1-score."
   ]
  },
  {
   "cell_type": "markdown",
   "metadata": {
    "id": "ZpJk8Leu9_ku"
   },
   "source": [
    "# Mixto"
   ]
  },
  {
   "cell_type": "markdown",
   "metadata": {
    "id": "4Qzjt8j5Hsnf"
   },
   "source": [
    "## Data preparation\n",
    "\n",
    "An additional step before the training phase with mixed data is to prepare the data, since since structured and text data are mixed, we must correctly define the pipelines, it is important to take into account the type of structure that the data has for which it is used. a transformer that distinguishes the columns."
   ]
  },
  {
   "cell_type": "code",
   "execution_count": 104,
   "metadata": {
    "id": "sw37C6i80sMF"
   },
   "outputs": [],
   "source": [
    "def split_dataframe(df1):\n",
    "    df1 = pd.get_dummies(df1, columns = ['Genero', 'SedeAtencion', 'TipoAfiliado'],  drop_first = True)\n",
    "    df1 = df1[['TAM', 'FC', 'FR', 'Genero_Masculino', 'SedeAtencion_VS UUBC LAS AMERICAS', 'TipoAfiliado_Cotizante', 'Anotacion TRIAGE Consulta', 'ClasificaTriage']]\n",
    "    #X_texto = df1['Anotacion TRIAGE Consulta'].values\n",
    "    return df1"
   ]
  },
  {
   "cell_type": "code",
   "execution_count": 105,
   "metadata": {
    "colab": {
     "base_uri": "https://localhost:8080/",
     "height": 815
    },
    "id": "kelzp9FsBeZV",
    "outputId": "8a6016ca-65cc-4051-b483-8908119c2e19"
   },
   "outputs": [
    {
     "data": {
      "text/html": [
       "<div>\n",
       "<style scoped>\n",
       "    .dataframe tbody tr th:only-of-type {\n",
       "        vertical-align: middle;\n",
       "    }\n",
       "\n",
       "    .dataframe tbody tr th {\n",
       "        vertical-align: top;\n",
       "    }\n",
       "\n",
       "    .dataframe thead th {\n",
       "        text-align: right;\n",
       "    }\n",
       "</style>\n",
       "<table border=\"1\" class=\"dataframe\">\n",
       "  <thead>\n",
       "    <tr style=\"text-align: right;\">\n",
       "      <th></th>\n",
       "      <th>TAM</th>\n",
       "      <th>FC</th>\n",
       "      <th>FR</th>\n",
       "      <th>Genero_Masculino</th>\n",
       "      <th>SedeAtencion_VS UUBC LAS AMERICAS</th>\n",
       "      <th>TipoAfiliado_Cotizante</th>\n",
       "      <th>Anotacion TRIAGE Consulta</th>\n",
       "      <th>ClasificaTriage</th>\n",
       "    </tr>\n",
       "  </thead>\n",
       "  <tbody>\n",
       "    <tr>\n",
       "      <th>0</th>\n",
       "      <td>89.33</td>\n",
       "      <td>91</td>\n",
       "      <td>19</td>\n",
       "      <td>0</td>\n",
       "      <td>1</td>\n",
       "      <td>1</td>\n",
       "      <td>M.C:  TENGO UN DOLOR ABDOMINAL EN LA PARTE INF...</td>\n",
       "      <td>2</td>\n",
       "    </tr>\n",
       "    <tr>\n",
       "      <th>1</th>\n",
       "      <td>92.67</td>\n",
       "      <td>100</td>\n",
       "      <td>18</td>\n",
       "      <td>0</td>\n",
       "      <td>1</td>\n",
       "      <td>1</td>\n",
       "      <td>PACIENTE REFIERE   DOLOR DE ESPALDA  Y   DOLOR...</td>\n",
       "      <td>3</td>\n",
       "    </tr>\n",
       "    <tr>\n",
       "      <th>2</th>\n",
       "      <td>88.00</td>\n",
       "      <td>114</td>\n",
       "      <td>21</td>\n",
       "      <td>0</td>\n",
       "      <td>0</td>\n",
       "      <td>1</td>\n",
       "      <td>ME OPERARON INGRESA PACIENTE  DE 40 AÑOS CONCI...</td>\n",
       "      <td>2</td>\n",
       "    </tr>\n",
       "    <tr>\n",
       "      <th>3</th>\n",
       "      <td>80.00</td>\n",
       "      <td>76</td>\n",
       "      <td>18</td>\n",
       "      <td>0</td>\n",
       "      <td>1</td>\n",
       "      <td>0</td>\n",
       "      <td>DIRECCIONADA DE LA CONSULTA POR LEUCOCITOSIS  ...</td>\n",
       "      <td>2</td>\n",
       "    </tr>\n",
       "    <tr>\n",
       "      <th>4</th>\n",
       "      <td>105.67</td>\n",
       "      <td>111</td>\n",
       "      <td>16</td>\n",
       "      <td>1</td>\n",
       "      <td>1</td>\n",
       "      <td>1</td>\n",
       "      <td>LA SEMANA PASADA EN EL TRABAJO CARGUE UNOS EQU...</td>\n",
       "      <td>4</td>\n",
       "    </tr>\n",
       "    <tr>\n",
       "      <th>...</th>\n",
       "      <td>...</td>\n",
       "      <td>...</td>\n",
       "      <td>...</td>\n",
       "      <td>...</td>\n",
       "      <td>...</td>\n",
       "      <td>...</td>\n",
       "      <td>...</td>\n",
       "      <td>...</td>\n",
       "    </tr>\n",
       "    <tr>\n",
       "      <th>20737</th>\n",
       "      <td>102.33</td>\n",
       "      <td>92</td>\n",
       "      <td>21</td>\n",
       "      <td>0</td>\n",
       "      <td>1</td>\n",
       "      <td>1</td>\n",
       "      <td>TENGO MUCHO DOLOR DE CABEZA</td>\n",
       "      <td>3</td>\n",
       "    </tr>\n",
       "    <tr>\n",
       "      <th>20738</th>\n",
       "      <td>114.00</td>\n",
       "      <td>94</td>\n",
       "      <td>16</td>\n",
       "      <td>1</td>\n",
       "      <td>0</td>\n",
       "      <td>1</td>\n",
       "      <td>ANTECEDENTES (EPOC,oxigeno requirente A 2 LITR...</td>\n",
       "      <td>2</td>\n",
       "    </tr>\n",
       "    <tr>\n",
       "      <th>20739</th>\n",
       "      <td>0.00</td>\n",
       "      <td>148</td>\n",
       "      <td>26</td>\n",
       "      <td>1</td>\n",
       "      <td>0</td>\n",
       "      <td>0</td>\n",
       "      <td>TIENE TOS  MADRE INDICA CUADRO CLINICO DE 2 D...</td>\n",
       "      <td>2</td>\n",
       "    </tr>\n",
       "    <tr>\n",
       "      <th>20740</th>\n",
       "      <td>46.33</td>\n",
       "      <td>96</td>\n",
       "      <td>18</td>\n",
       "      <td>1</td>\n",
       "      <td>0</td>\n",
       "      <td>1</td>\n",
       "      <td>HACE 15 DIAS ME GOLPEE EL CODO Y TENGO DOLOR ...</td>\n",
       "      <td>2</td>\n",
       "    </tr>\n",
       "    <tr>\n",
       "      <th>20741</th>\n",
       "      <td>96.00</td>\n",
       "      <td>66</td>\n",
       "      <td>20</td>\n",
       "      <td>0</td>\n",
       "      <td>0</td>\n",
       "      <td>1</td>\n",
       "      <td>PACIENTE REFIERE   SOY  POSITIVA PARA COVID   ...</td>\n",
       "      <td>3</td>\n",
       "    </tr>\n",
       "  </tbody>\n",
       "</table>\n",
       "<p>19964 rows × 8 columns</p>\n",
       "</div>"
      ],
      "text/plain": [
       "          TAM   FC  FR  Genero_Masculino  SedeAtencion_VS UUBC LAS AMERICAS  \\\n",
       "0       89.33   91  19                 0                                  1   \n",
       "1       92.67  100  18                 0                                  1   \n",
       "2       88.00  114  21                 0                                  0   \n",
       "3       80.00   76  18                 0                                  1   \n",
       "4      105.67  111  16                 1                                  1   \n",
       "...       ...  ...  ..               ...                                ...   \n",
       "20737  102.33   92  21                 0                                  1   \n",
       "20738  114.00   94  16                 1                                  0   \n",
       "20739    0.00  148  26                 1                                  0   \n",
       "20740   46.33   96  18                 1                                  0   \n",
       "20741   96.00   66  20                 0                                  0   \n",
       "\n",
       "       TipoAfiliado_Cotizante  \\\n",
       "0                           1   \n",
       "1                           1   \n",
       "2                           1   \n",
       "3                           0   \n",
       "4                           1   \n",
       "...                       ...   \n",
       "20737                       1   \n",
       "20738                       1   \n",
       "20739                       0   \n",
       "20740                       1   \n",
       "20741                       1   \n",
       "\n",
       "                               Anotacion TRIAGE Consulta  ClasificaTriage  \n",
       "0      M.C:  TENGO UN DOLOR ABDOMINAL EN LA PARTE INF...                2  \n",
       "1      PACIENTE REFIERE   DOLOR DE ESPALDA  Y   DOLOR...                3  \n",
       "2      ME OPERARON INGRESA PACIENTE  DE 40 AÑOS CONCI...                2  \n",
       "3      DIRECCIONADA DE LA CONSULTA POR LEUCOCITOSIS  ...                2  \n",
       "4      LA SEMANA PASADA EN EL TRABAJO CARGUE UNOS EQU...                4  \n",
       "...                                                  ...              ...  \n",
       "20737                       TENGO MUCHO DOLOR DE CABEZA                 3  \n",
       "20738  ANTECEDENTES (EPOC,oxigeno requirente A 2 LITR...                2  \n",
       "20739   TIENE TOS  MADRE INDICA CUADRO CLINICO DE 2 D...                2  \n",
       "20740   HACE 15 DIAS ME GOLPEE EL CODO Y TENGO DOLOR ...                2  \n",
       "20741  PACIENTE REFIERE   SOY  POSITIVA PARA COVID   ...                3  \n",
       "\n",
       "[19964 rows x 8 columns]"
      ]
     },
     "execution_count": 105,
     "metadata": {},
     "output_type": "execute_result"
    }
   ],
   "source": [
    "split_dataframe(base)"
   ]
  },
  {
   "cell_type": "code",
   "execution_count": 106,
   "metadata": {
    "id": "bkeJA0bK5M5a"
   },
   "outputs": [],
   "source": [
    "# Desde aqui\n",
    "X = split_dataframe(base)[['TAM', 'FC', 'FR', 'Genero_Masculino', 'SedeAtencion_VS UUBC LAS AMERICAS', 'TipoAfiliado_Cotizante', 'Anotacion TRIAGE Consulta']]\n",
    "y = split_dataframe(base)['ClasificaTriage']\n",
    "X_mixto_train, X_mixto_test, y_mixto_train, y_mixto_test = train_test_split(X,y, test_size=0.2, random_state=42)"
   ]
  },
  {
   "cell_type": "code",
   "execution_count": 107,
   "metadata": {
    "id": "8YFeGCNp4AdF"
   },
   "outputs": [],
   "source": [
    "# Crear el ColumnTransformer para encadenar los transformadores\n",
    "preprocessor = ColumnTransformer(\n",
    "    transformers=[\n",
    "        ('numeric', StandardScaler(), ['TAM', 'FC', 'FR', 'Genero_Masculino', 'SedeAtencion_VS UUBC LAS AMERICAS', 'TipoAfiliado_Cotizante']),\n",
    "        ('text', TfidfVectorizer(tokenizer=tokenize, stop_words = my_stopwords, max_features= 800), 'Anotacion TRIAGE Consulta')\n",
    "    ])"
   ]
  },
  {
   "cell_type": "markdown",
   "metadata": {
    "id": "rHb2Lw1kFaL7"
   },
   "source": [
    "### Lienar regression"
   ]
  },
  {
   "cell_type": "code",
   "execution_count": 108,
   "metadata": {
    "colab": {
     "base_uri": "https://localhost:8080/",
     "height": 218
    },
    "id": "3735oyS9EjZs",
    "outputId": "53b4e4d0-7c58-441a-b123-e0bc206ca7d0"
   },
   "outputs": [
    {
     "data": {
      "text/plain": [
       "GridSearchCV(cv=3,\n",
       "             estimator=Pipeline(steps=[('preprocess',\n",
       "                                        ColumnTransformer(transformers=[('numeric',\n",
       "                                                                         StandardScaler(),\n",
       "                                                                         ['TAM',\n",
       "                                                                          'FC',\n",
       "                                                                          'FR',\n",
       "                                                                          'Genero_Masculino',\n",
       "                                                                          'SedeAtencion_VS '\n",
       "                                                                          'UUBC '\n",
       "                                                                          'LAS '\n",
       "                                                                          'AMERICAS',\n",
       "                                                                          'TipoAfiliado_Cotizante']),\n",
       "                                                                        ('text',\n",
       "                                                                         TfidfVectorizer(max_features=800,\n",
       "                                                                                         stop_words=['de',\n",
       "                                                                                                     'la',\n",
       "                                                                                                     'que',\n",
       "                                                                                                     'el',\n",
       "                                                                                                     'en',\n",
       "                                                                                                     'y',\n",
       "                                                                                                     'a',\n",
       "                                                                                                     'los',\n",
       "                                                                                                     'del',\n",
       "                                                                                                     'se',\n",
       "                                                                                                     'las',\n",
       "                                                                                                     'por',\n",
       "                                                                                                     'un',\n",
       "                                                                                                     'para',\n",
       "                                                                                                     'con',\n",
       "                                                                                                     'no',\n",
       "                                                                                                     'una',\n",
       "                                                                                                     'su',\n",
       "                                                                                                     'al',\n",
       "                                                                                                     'lo',\n",
       "                                                                                                     'como',\n",
       "                                                                                                     'más',\n",
       "                                                                                                     'pero',\n",
       "                                                                                                     'sus',\n",
       "                                                                                                     'le',\n",
       "                                                                                                     'ya',\n",
       "                                                                                                     'o',\n",
       "                                                                                                     'este',\n",
       "                                                                                                     'sí',\n",
       "                                                                                                     'porque', ...],\n",
       "                                                                                         tokenizer=<function tokenize at 0x000001B501177C10>),\n",
       "                                                                         'Anotacion '\n",
       "                                                                         'TRIAGE '\n",
       "                                                                         'Consulta')])),\n",
       "                                       ('model', LogisticRegression())]),\n",
       "             param_grid={'model__C': [0.1, 1, 10],\n",
       "                         'preprocess__text__ngram_range': [(1, 1), (1, 2)]},\n",
       "             scoring=make_scorer(f1_score, average=macro))"
      ]
     },
     "execution_count": 108,
     "metadata": {},
     "output_type": "execute_result"
    }
   ],
   "source": [
    "pipeline = Pipeline([\n",
    "    ('preprocess', preprocessor),\n",
    "    ('model', LogisticRegression())\n",
    "])\n",
    "\n",
    "param_grid = {\n",
    "    'preprocess__text__ngram_range': [(1, 1), (1, 2)],  # Ejemplo de parámetro para TfidfVectorizer\n",
    "    'model__C': [0.1, 1, 10]  # Ejemplo de parámetro para LogisticRegression\n",
    "}\n",
    "\n",
    "# Crear el objeto GridSearchCV\n",
    "grid_search_lr = GridSearchCV(pipeline, param_grid, cv=3, scoring=scorer)\n",
    "\n",
    "# Ajustar el GridSearchCV utilizando los datos de entrenamiento y las etiquetas\n",
    "grid_search_lr.fit(X_mixto_train, y_mixto_train)"
   ]
  },
  {
   "cell_type": "code",
   "execution_count": 109,
   "metadata": {
    "colab": {
     "base_uri": "https://localhost:8080/"
    },
    "id": "7bihI0oiFGPc",
    "outputId": "1d29fc84-e3fc-4fb7-f931-638782bc9539"
   },
   "outputs": [
    {
     "name": "stdout",
     "output_type": "stream",
     "text": [
      "              precision    recall  f1-score   support\n",
      "\n",
      "           1       0.72      0.53      0.61       462\n",
      "           2       0.65      0.68      0.66      1249\n",
      "           3       0.58      0.64      0.61      1256\n",
      "           4       0.61      0.58      0.60      1026\n",
      "\n",
      "    accuracy                           0.62      3993\n",
      "   macro avg       0.64      0.61      0.62      3993\n",
      "weighted avg       0.63      0.62      0.62      3993\n",
      "\n"
     ]
    }
   ],
   "source": [
    "print(evaluate_model(grid_search_lr,X_mixto_test, y_mixto_test))"
   ]
  },
  {
   "cell_type": "markdown",
   "metadata": {
    "id": "CjpGcWI6Ffs8"
   },
   "source": [
    "### Random Forest"
   ]
  },
  {
   "cell_type": "code",
   "execution_count": 110,
   "metadata": {
    "colab": {
     "base_uri": "https://localhost:8080/",
     "height": 218
    },
    "id": "lzNmxnQwFiGk",
    "outputId": "c271c1c8-8d30-495b-a067-ddc3c6e1e735"
   },
   "outputs": [
    {
     "data": {
      "text/plain": [
       "GridSearchCV(cv=3,\n",
       "             estimator=Pipeline(steps=[('preprocess',\n",
       "                                        ColumnTransformer(transformers=[('numeric',\n",
       "                                                                         StandardScaler(),\n",
       "                                                                         ['TAM',\n",
       "                                                                          'FC',\n",
       "                                                                          'FR',\n",
       "                                                                          'Genero_Masculino',\n",
       "                                                                          'SedeAtencion_VS '\n",
       "                                                                          'UUBC '\n",
       "                                                                          'LAS '\n",
       "                                                                          'AMERICAS',\n",
       "                                                                          'TipoAfiliado_Cotizante']),\n",
       "                                                                        ('text',\n",
       "                                                                         TfidfVectorizer(max_features=800,\n",
       "                                                                                         stop_words=['de',\n",
       "                                                                                                     'la',\n",
       "                                                                                                     'que',\n",
       "                                                                                                     'el',\n",
       "                                                                                                     'en',\n",
       "                                                                                                     'y',\n",
       "                                                                                                     'a',\n",
       "                                                                                                     'los',\n",
       "                                                                                                     'del',\n",
       "                                                                                                     'se',\n",
       "                                                                                                     'las',\n",
       "                                                                                                     'por',\n",
       "                                                                                                     'un',\n",
       "                                                                                                     'para',\n",
       "                                                                                                     'con',\n",
       "                                                                                                     'no',\n",
       "                                                                                                     'una',\n",
       "                                                                                                     'su',\n",
       "                                                                                                     'al',\n",
       "                                                                                                     'lo',\n",
       "                                                                                                     'como',\n",
       "                                                                                                     'más',\n",
       "                                                                                                     'pero',\n",
       "                                                                                                     'sus',\n",
       "                                                                                                     'le',\n",
       "                                                                                                     'ya',\n",
       "                                                                                                     'o',\n",
       "                                                                                                     'este',\n",
       "                                                                                                     'sí',\n",
       "                                                                                                     'porque', ...],\n",
       "                                                                                         tokenizer=<function tokenize at 0x000001B501177C10>),\n",
       "                                                                         'Anotacion '\n",
       "                                                                         'TRIAGE '\n",
       "                                                                         'Consulta')])),\n",
       "                                       ('model', RandomForestClassifier())]),\n",
       "             param_grid={'model__n_estimators': [50, 100],\n",
       "                         'preprocess__text__ngram_range': [(1, 1), (1, 2)]},\n",
       "             scoring=make_scorer(f1_score, average=macro))"
      ]
     },
     "execution_count": 110,
     "metadata": {},
     "output_type": "execute_result"
    }
   ],
   "source": [
    "pipeline = Pipeline([\n",
    "    ('preprocess', preprocessor),\n",
    "    ('model', RandomForestClassifier())\n",
    "])\n",
    "\n",
    "param_grid = {\n",
    "    'preprocess__text__ngram_range': [(1, 1), (1, 2)],  # Ejemplo de parámetro para TfidfVectorizer\n",
    "    'model__n_estimators': [50, 100]  # Ejemplo de parámetro para LogisticRegression\n",
    "}\n",
    "\n",
    "# Crear el objeto GridSearchCV\n",
    "grid_search_rf = GridSearchCV(pipeline, param_grid, cv=3, scoring=scorer)\n",
    "\n",
    "# Ajustar el GridSearchCV utilizando los datos de entrenamiento y las etiquetas\n",
    "grid_search_rf.fit(X_mixto_train, y_mixto_train)"
   ]
  },
  {
   "cell_type": "code",
   "execution_count": 111,
   "metadata": {
    "colab": {
     "base_uri": "https://localhost:8080/"
    },
    "id": "RTWwES87CbBm",
    "outputId": "119855e9-f0d3-4693-b1e0-334b8f6c3619"
   },
   "outputs": [
    {
     "name": "stdout",
     "output_type": "stream",
     "text": [
      "              precision    recall  f1-score   support\n",
      "\n",
      "           1       0.81      0.47      0.60       462\n",
      "           2       0.64      0.70      0.67      1249\n",
      "           3       0.57      0.66      0.61      1256\n",
      "           4       0.62      0.54      0.58      1026\n",
      "\n",
      "    accuracy                           0.62      3993\n",
      "   macro avg       0.66      0.60      0.61      3993\n",
      "weighted avg       0.63      0.62      0.62      3993\n",
      "\n"
     ]
    }
   ],
   "source": [
    "print(evaluate_model(grid_search_rf,X_mixto_test, y_mixto_test))"
   ]
  },
  {
   "cell_type": "markdown",
   "metadata": {
    "id": "Hf4BBlD3G0HY"
   },
   "source": [
    "### Neuronal network"
   ]
  },
  {
   "cell_type": "code",
   "execution_count": 112,
   "metadata": {
    "colab": {
     "base_uri": "https://localhost:8080/",
     "height": 218
    },
    "id": "gLXJ688_G2ew",
    "outputId": "778eb044-2f17-4b99-a3a6-5a5a6ce306ad"
   },
   "outputs": [
    {
     "data": {
      "text/plain": [
       "GridSearchCV(cv=3,\n",
       "             estimator=Pipeline(steps=[('preprocess',\n",
       "                                        ColumnTransformer(transformers=[('numeric',\n",
       "                                                                         StandardScaler(),\n",
       "                                                                         ['TAM',\n",
       "                                                                          'FC',\n",
       "                                                                          'FR',\n",
       "                                                                          'Genero_Masculino',\n",
       "                                                                          'SedeAtencion_VS '\n",
       "                                                                          'UUBC '\n",
       "                                                                          'LAS '\n",
       "                                                                          'AMERICAS',\n",
       "                                                                          'TipoAfiliado_Cotizante']),\n",
       "                                                                        ('text',\n",
       "                                                                         TfidfVectorizer(max_features=800,\n",
       "                                                                                         stop_words=['de',\n",
       "                                                                                                     'la',\n",
       "                                                                                                     'que',\n",
       "                                                                                                     'el',\n",
       "                                                                                                     'en',\n",
       "                                                                                                     'y',\n",
       "                                                                                                     'a',\n",
       "                                                                                                     'los',\n",
       "                                                                                                     'del',\n",
       "                                                                                                     'se',\n",
       "                                                                                                     'las',\n",
       "                                                                                                     'por',\n",
       "                                                                                                     'un',\n",
       "                                                                                                     'para',\n",
       "                                                                                                     'c...\n",
       "                                                                                                     'no',\n",
       "                                                                                                     'una',\n",
       "                                                                                                     'su',\n",
       "                                                                                                     'al',\n",
       "                                                                                                     'lo',\n",
       "                                                                                                     'como',\n",
       "                                                                                                     'más',\n",
       "                                                                                                     'pero',\n",
       "                                                                                                     'sus',\n",
       "                                                                                                     'le',\n",
       "                                                                                                     'ya',\n",
       "                                                                                                     'o',\n",
       "                                                                                                     'este',\n",
       "                                                                                                     'sí',\n",
       "                                                                                                     'porque', ...],\n",
       "                                                                                         tokenizer=<function tokenize at 0x000001B501177C10>),\n",
       "                                                                         'Anotacion '\n",
       "                                                                         'TRIAGE '\n",
       "                                                                         'Consulta')])),\n",
       "                                       ('model', MLPClassifier())]),\n",
       "             param_grid={'model__hidden_layer_sizes': [(50,), (100,)],\n",
       "                         'preprocess__text__ngram_range': [(1, 1), (1, 2)]},\n",
       "             scoring=make_scorer(f1_score, average=macro))"
      ]
     },
     "execution_count": 112,
     "metadata": {},
     "output_type": "execute_result"
    }
   ],
   "source": [
    "pipeline = Pipeline([\n",
    "    ('preprocess', preprocessor),\n",
    "    ('model', MLPClassifier())\n",
    "])\n",
    "\n",
    "param_grid = {\n",
    "    'preprocess__text__ngram_range': [(1, 1), (1, 2)],  # Ejemplo de parámetro para TfidfVectorizer\n",
    "    'model__hidden_layer_sizes': [(50,), (100,)]  # Ejemplo de parámetro para LogisticRegression\n",
    "}\n",
    "\n",
    "# Crear el objeto GridSearchCV\n",
    "grid_search_rn = GridSearchCV(pipeline, param_grid, cv=3, scoring=scorer)\n",
    "\n",
    "# Ajustar el GridSearchCV utilizando los datos de entrenamiento y las etiquetas\n",
    "grid_search_rn.fit(X_mixto_train, y_mixto_train)"
   ]
  },
  {
   "cell_type": "code",
   "execution_count": 113,
   "metadata": {
    "colab": {
     "base_uri": "https://localhost:8080/"
    },
    "id": "DqzcYg9dHIL6",
    "outputId": "41fff660-b1da-44bb-e5ac-f2b3f3fb8042"
   },
   "outputs": [
    {
     "name": "stdout",
     "output_type": "stream",
     "text": [
      "              precision    recall  f1-score   support\n",
      "\n",
      "           1       0.54      0.55      0.54       462\n",
      "           2       0.63      0.61      0.62      1249\n",
      "           3       0.55      0.58      0.57      1256\n",
      "           4       0.59      0.57      0.58      1026\n",
      "\n",
      "    accuracy                           0.58      3993\n",
      "   macro avg       0.58      0.58      0.58      3993\n",
      "weighted avg       0.58      0.58      0.58      3993\n",
      "\n"
     ]
    }
   ],
   "source": [
    "print(evaluate_model(grid_search_rn,X_mixto_test, y_mixto_test))"
   ]
  },
  {
   "cell_type": "markdown",
   "metadata": {},
   "source": [
    "### Remark \n",
    "\n",
    "In the mixed phase, the Random Forest model showed outstanding performance in triage classification.\n",
    "\n",
    "Those metrics reflect a significant improvement compared to previous phases, demonstrating the effectiveness of the model in accurately classifying triage categories. Specifically, the model achieved high accuracy in category 1, with an f1-score of 0.61, and also performed well in categories 2, 3, and 4, with f1-scores of 0.67, 0.61, and 0.59, respectively."
   ]
  },
  {
   "cell_type": "markdown",
   "metadata": {},
   "source": [
    "## Save the final model\n",
    "\n",
    "Taking into account that we have already identified the model with the best performance under the parameters defined at the beginning. The code is ready to save the model in pkl format and be used with an interface for its deployment. However, that is not part of the proposed scope of this project."
   ]
  },
  {
   "cell_type": "code",
   "execution_count": 114,
   "metadata": {
    "id": "-XUpb5d3VE8_"
   },
   "outputs": [],
   "source": [
    "def save_model(model, model_filepath):\n",
    "    with open(model_filepath, 'wb') as file:\n",
    "        pickle.dump(model, file)"
   ]
  },
  {
   "cell_type": "code",
   "execution_count": 115,
   "metadata": {
    "id": "r-klqCnvVIaM"
   },
   "outputs": [],
   "source": [
    "save_model(grid_search_rf, 'final_model.pkl' )"
   ]
  },
  {
   "cell_type": "markdown",
   "metadata": {},
   "source": [
    "## Demo:\n",
    "\n",
    "A set of 10 records is taken at random and the model is tested to work correctly."
   ]
  },
  {
   "cell_type": "code",
   "execution_count": 117,
   "metadata": {},
   "outputs": [
    {
     "data": {
      "text/html": [
       "<div>\n",
       "<style scoped>\n",
       "    .dataframe tbody tr th:only-of-type {\n",
       "        vertical-align: middle;\n",
       "    }\n",
       "\n",
       "    .dataframe tbody tr th {\n",
       "        vertical-align: top;\n",
       "    }\n",
       "\n",
       "    .dataframe thead th {\n",
       "        text-align: right;\n",
       "    }\n",
       "</style>\n",
       "<table border=\"1\" class=\"dataframe\">\n",
       "  <thead>\n",
       "    <tr style=\"text-align: right;\">\n",
       "      <th></th>\n",
       "      <th>TAM</th>\n",
       "      <th>FC</th>\n",
       "      <th>FR</th>\n",
       "      <th>Genero_Masculino</th>\n",
       "      <th>SedeAtencion_VS UUBC LAS AMERICAS</th>\n",
       "      <th>TipoAfiliado_Cotizante</th>\n",
       "      <th>Anotacion TRIAGE Consulta</th>\n",
       "    </tr>\n",
       "  </thead>\n",
       "  <tbody>\n",
       "    <tr>\n",
       "      <th>16383</th>\n",
       "      <td>114.67</td>\n",
       "      <td>98</td>\n",
       "      <td>20</td>\n",
       "      <td>1</td>\n",
       "      <td>1</td>\n",
       "      <td>1</td>\n",
       "      <td>HACE UN MES TUVE UN ACCIDENTE LABORAL, ME HICI...</td>\n",
       "    </tr>\n",
       "    <tr>\n",
       "      <th>9655</th>\n",
       "      <td>91.00</td>\n",
       "      <td>90</td>\n",
       "      <td>19</td>\n",
       "      <td>0</td>\n",
       "      <td>1</td>\n",
       "      <td>0</td>\n",
       "      <td>ESTOY VOMITO SOLTURA MUCHA TOS SECA</td>\n",
       "    </tr>\n",
       "    <tr>\n",
       "      <th>17048</th>\n",
       "      <td>77.33</td>\n",
       "      <td>103</td>\n",
       "      <td>16</td>\n",
       "      <td>0</td>\n",
       "      <td>0</td>\n",
       "      <td>0</td>\n",
       "      <td>AGRESIÓN EN 2 DEDO MANO IZQUIERDA  AYER 6 PM  ...</td>\n",
       "    </tr>\n",
       "    <tr>\n",
       "      <th>11826</th>\n",
       "      <td>92.33</td>\n",
       "      <td>115</td>\n",
       "      <td>19</td>\n",
       "      <td>1</td>\n",
       "      <td>1</td>\n",
       "      <td>1</td>\n",
       "      <td>DESDE ANCOHE TENGO VOMITO,DIARREA Y ESTOY DEBIL</td>\n",
       "    </tr>\n",
       "    <tr>\n",
       "      <th>5552</th>\n",
       "      <td>86.67</td>\n",
       "      <td>78</td>\n",
       "      <td>18</td>\n",
       "      <td>0</td>\n",
       "      <td>0</td>\n",
       "      <td>1</td>\n",
       "      <td>REFIERE  DE  3 DIAS DE EVOLUCION DE    DISURIA...</td>\n",
       "    </tr>\n",
       "    <tr>\n",
       "      <th>8428</th>\n",
       "      <td>85.67</td>\n",
       "      <td>96</td>\n",
       "      <td>21</td>\n",
       "      <td>1</td>\n",
       "      <td>0</td>\n",
       "      <td>1</td>\n",
       "      <td>TENGO DOS DOLORES  INGRESA PACIENTE DE 24  AÑO...</td>\n",
       "    </tr>\n",
       "    <tr>\n",
       "      <th>4948</th>\n",
       "      <td>97.00</td>\n",
       "      <td>78</td>\n",
       "      <td>18</td>\n",
       "      <td>0</td>\n",
       "      <td>0</td>\n",
       "      <td>1</td>\n",
       "      <td>FUR:  07/09/2021  TENGO VOMITO   CON CUADRO C...</td>\n",
       "    </tr>\n",
       "    <tr>\n",
       "      <th>6422</th>\n",
       "      <td>88.67</td>\n",
       "      <td>87</td>\n",
       "      <td>19</td>\n",
       "      <td>1</td>\n",
       "      <td>0</td>\n",
       "      <td>1</td>\n",
       "      <td>EYER ME VACUNARON Y HOY TENGO FIEBRE ESCALOFRI...</td>\n",
       "    </tr>\n",
       "    <tr>\n",
       "      <th>13465</th>\n",
       "      <td>86.67</td>\n",
       "      <td>79</td>\n",
       "      <td>16</td>\n",
       "      <td>0</td>\n",
       "      <td>0</td>\n",
       "      <td>1</td>\n",
       "      <td>VENGO A CONTROL ECOGRAFICO PACIENTE GESTANTE Q...</td>\n",
       "    </tr>\n",
       "    <tr>\n",
       "      <th>4454</th>\n",
       "      <td>99.00</td>\n",
       "      <td>82</td>\n",
       "      <td>19</td>\n",
       "      <td>1</td>\n",
       "      <td>1</td>\n",
       "      <td>1</td>\n",
       "      <td>SE    RECLASIFICA  PACIENTE PRIORIDAD 2</td>\n",
       "    </tr>\n",
       "  </tbody>\n",
       "</table>\n",
       "</div>"
      ],
      "text/plain": [
       "          TAM   FC  FR  Genero_Masculino  SedeAtencion_VS UUBC LAS AMERICAS  \\\n",
       "16383  114.67   98  20                 1                                  1   \n",
       "9655    91.00   90  19                 0                                  1   \n",
       "17048   77.33  103  16                 0                                  0   \n",
       "11826   92.33  115  19                 1                                  1   \n",
       "5552    86.67   78  18                 0                                  0   \n",
       "8428    85.67   96  21                 1                                  0   \n",
       "4948    97.00   78  18                 0                                  0   \n",
       "6422    88.67   87  19                 1                                  0   \n",
       "13465   86.67   79  16                 0                                  0   \n",
       "4454    99.00   82  19                 1                                  1   \n",
       "\n",
       "       TipoAfiliado_Cotizante  \\\n",
       "16383                       1   \n",
       "9655                        0   \n",
       "17048                       0   \n",
       "11826                       1   \n",
       "5552                        1   \n",
       "8428                        1   \n",
       "4948                        1   \n",
       "6422                        1   \n",
       "13465                       1   \n",
       "4454                        1   \n",
       "\n",
       "                               Anotacion TRIAGE Consulta  \n",
       "16383  HACE UN MES TUVE UN ACCIDENTE LABORAL, ME HICI...  \n",
       "9655                 ESTOY VOMITO SOLTURA MUCHA TOS SECA  \n",
       "17048  AGRESIÓN EN 2 DEDO MANO IZQUIERDA  AYER 6 PM  ...  \n",
       "11826    DESDE ANCOHE TENGO VOMITO,DIARREA Y ESTOY DEBIL  \n",
       "5552   REFIERE  DE  3 DIAS DE EVOLUCION DE    DISURIA...  \n",
       "8428   TENGO DOS DOLORES  INGRESA PACIENTE DE 24  AÑO...  \n",
       "4948    FUR:  07/09/2021  TENGO VOMITO   CON CUADRO C...  \n",
       "6422   EYER ME VACUNARON Y HOY TENGO FIEBRE ESCALOFRI...  \n",
       "13465  VENGO A CONTROL ECOGRAFICO PACIENTE GESTANTE Q...  \n",
       "4454           SE    RECLASIFICA  PACIENTE PRIORIDAD 2    "
      ]
     },
     "execution_count": 117,
     "metadata": {},
     "output_type": "execute_result"
    }
   ],
   "source": [
    "X_mixto_test.sample(10, random_state = 123)"
   ]
  },
  {
   "cell_type": "code",
   "execution_count": 118,
   "metadata": {
    "id": "4kq5WQQkc_lZ"
   },
   "outputs": [
    {
     "data": {
      "text/plain": [
       "array([4, 3, 2, 3, 2, 3, 3, 4, 1, 1], dtype=int64)"
      ]
     },
     "execution_count": 118,
     "metadata": {},
     "output_type": "execute_result"
    }
   ],
   "source": [
    "grid_search_rf.predict(X_mixto_test.sample(10, random_state = 123))"
   ]
  },
  {
   "cell_type": "markdown",
   "metadata": {},
   "source": [
    "## Conclusions\n",
    "In summary, this project addressed the challenge of triage classification in health services. Using various models and techniques, we developed a comprehensive solution that supports healthcare professionals to accurately triage patients.\n",
    "\n",
    "Regarding improvements: It is suggested to continue the investigation to improve the experiment. It is important to highlight that the developed model is ready to be complemented with an application that facilitates its deployment and achieves a comprehensive end-to-end solution.\n",
    "\n",
    "This complementary tool aims to support and improve the work of doctors in emergency situations, allowing them to make more accurate and faster decisions in triage classification."
   ]
  },
  {
   "cell_type": "code",
   "execution_count": null,
   "metadata": {},
   "outputs": [],
   "source": []
  }
 ],
 "metadata": {
  "colab": {
   "machine_shape": "hm",
   "provenance": []
  },
  "gpuClass": "standard",
  "kernelspec": {
   "display_name": "Python 3",
   "language": "python",
   "name": "python3"
  },
  "language_info": {
   "codemirror_mode": {
    "name": "ipython",
    "version": 3
   },
   "file_extension": ".py",
   "mimetype": "text/x-python",
   "name": "python",
   "nbconvert_exporter": "python",
   "pygments_lexer": "ipython3",
   "version": "3.8.8"
  }
 },
 "nbformat": 4,
 "nbformat_minor": 1
}
